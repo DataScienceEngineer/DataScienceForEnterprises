{
 "cells": [
  {
   "cell_type": "code",
   "execution_count": 1,
   "metadata": {},
   "outputs": [],
   "source": [
    "import pandas as pd\n",
    "import numpy as np"
   ]
  },
  {
   "cell_type": "code",
   "execution_count": 2,
   "metadata": {},
   "outputs": [],
   "source": [
    "data = pd.read_csv('Features.csv')\n",
    "test = pd.read_csv('Features_Test.csv')"
   ]
  },
  {
   "cell_type": "code",
   "execution_count": 3,
   "metadata": {},
   "outputs": [
    {
     "data": {
      "text/plain": [
       "(Index(['Unnamed: 0', 'Unnamed: 0.1', 'Unnamed: 0.1.1', 'Name', 'Location',\n",
       "        'Year', 'Kilometers_Driven', 'Fuel_Type', 'Transmission', 'Owner_Type',\n",
       "        'Mileage', 'Engine', 'Power', 'Seats', 'New_Price', 'Price', 'Company',\n",
       "        'P_Company', 'P_Year', 'P_Mileage', 'P_Engine', 'P1_Engine',\n",
       "        'P2_Engine', 'P_Power', 'P1_Power', 'P2_Power', 'P3_Power', 'P_Seats',\n",
       "        'G_New_Price', 'G_New_Price1', 'P_Company_Mean', 'P_Company_Median',\n",
       "        'P_Location_Mean', 'P_Location_Median', 'P_Year_Mean', 'P_Year_Median',\n",
       "        'Now', 'Kmpm', 'P_Transmission_Mean', 'P_Transmission_Median',\n",
       "        'P_Fuel_Mean', 'P_Fuel_Median', 'P_Owner_Mean', 'P_Owner_Median',\n",
       "        'P_Seats_Mean', 'P_Seats_Median'],\n",
       "       dtype='object'),\n",
       " Index(['Unnamed: 0', 'Unnamed: 0.1', 'Unnamed: 0.1.1', 'Name', 'Location',\n",
       "        'Year', 'Kilometers_Driven', 'Fuel_Type', 'Transmission', 'Owner_Type',\n",
       "        'Mileage', 'Engine', 'Power', 'Seats', 'New_Price', 'Company',\n",
       "        'P_Company', 'P_Year', 'P_Mileage', 'P_Engine', 'P1_Engine',\n",
       "        'P2_Engine', 'P_Power', 'P1_Power', 'P2_Power', 'P3_Power', 'P_Seats',\n",
       "        'G_New_Price', 'G_New_Price1', 'P_Company_Mean', 'P_Company_Median',\n",
       "        'P_Location_Mean', 'P_Location_Median', 'P_Year_Mean', 'P_Year_Median',\n",
       "        'Now', 'Kmpm', 'P_Transmission_Mean', 'P_Transmission_Median',\n",
       "        'P_Fuel_Mean', 'P_Fuel_Median', 'P_Owner_Mean', 'P_Owner_Median',\n",
       "        'P_Seats_Mean', 'P_Seats_Median'],\n",
       "       dtype='object'),\n",
       " (6017, 46),\n",
       " (1234, 45))"
      ]
     },
     "execution_count": 3,
     "metadata": {},
     "output_type": "execute_result"
    }
   ],
   "source": [
    "data.columns, test.columns, data.shape, test.shape"
   ]
  },
  {
   "cell_type": "code",
   "execution_count": 4,
   "metadata": {},
   "outputs": [],
   "source": [
    "Features = ['P_Engine', 'P_Power', 'P_Mileage', 'P_Kilometers_Driven', 'New_Price', 'G_New_Price', 'G_New_Price1', 'P_Company_Mean',\n",
    "       'P_Company_Median', 'P_Year_Mean', 'P_Year_Median', 'P_Location_Mean', 'P_Location_Median','Kmpm', 'P_Transmission_Mean', 'P_Transmission_Median','P_Owner_Mean','P_Owner_Median','P_Fuel_Mean','P_Fuel_Median','P_Seats_Median','P_Seats_Mean']"
   ]
  },
  {
   "cell_type": "code",
   "execution_count": 18,
   "metadata": {},
   "outputs": [
    {
     "data": {
      "text/plain": [
       "21"
      ]
     },
     "execution_count": 18,
     "metadata": {},
     "output_type": "execute_result"
    }
   ],
   "source": [
    "len(Features)"
   ]
  },
  {
   "cell_type": "code",
   "execution_count": 20,
   "metadata": {},
   "outputs": [],
   "source": [
    "from sklearn.model_selection import train_test_split\n",
    "X_train, X_test, y_train, y_test = train_test_split(\n",
    "    data.loc[:,Features], data.loc[:,'Log_Price'], test_size=0.2, random_state=42)"
   ]
  },
  {
   "cell_type": "code",
   "execution_count": 21,
   "metadata": {},
   "outputs": [
    {
     "data": {
      "text/plain": [
       "((4779, 21), (4779,), (1195, 21), (1195,))"
      ]
     },
     "execution_count": 21,
     "metadata": {},
     "output_type": "execute_result"
    }
   ],
   "source": [
    "X_train.shape, y_train.shape, X_test.shape, y_test.shape"
   ]
  },
  {
   "cell_type": "code",
   "execution_count": null,
   "metadata": {},
   "outputs": [],
   "source": []
  }
 ],
 "metadata": {
  "kernelspec": {
   "display_name": "Python 3",
   "language": "python",
   "name": "python3"
  },
  "language_info": {
   "codemirror_mode": {
    "name": "ipython",
    "version": 3
   },
   "file_extension": ".py",
   "mimetype": "text/x-python",
   "name": "python",
   "nbconvert_exporter": "python",
   "pygments_lexer": "ipython3",
   "version": "3.7.1"
  }
 },
 "nbformat": 4,
 "nbformat_minor": 2
}
