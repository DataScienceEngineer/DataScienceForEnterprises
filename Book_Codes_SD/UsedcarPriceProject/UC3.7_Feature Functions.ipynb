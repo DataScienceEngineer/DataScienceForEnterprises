{
 "cells": [
  {
   "cell_type": "code",
   "execution_count": 37,
   "metadata": {},
   "outputs": [],
   "source": [
    "import pandas as pd\n",
    "import numpy as np\n",
    "import matplotlib.pyplot as plt\n",
    "import category_encoders as ce"
   ]
  },
  {
   "cell_type": "code",
   "execution_count": 2,
   "metadata": {},
   "outputs": [],
   "source": [
    "data = pd.read_excel(r'Data_Train.xlsx')\n",
    "test = pd.read_excel(r'Data_Test.xlsx')"
   ]
  },
  {
   "cell_type": "code",
   "execution_count": 3,
   "metadata": {},
   "outputs": [
    {
     "data": {
      "text/plain": [
       "TargetEncoder(cols=[], drop_invariant=False, handle_missing='value',\n",
       "       handle_unknown='value', min_samples_leaf=1, return_df=True,\n",
       "       smoothing=1.0, verbose=0)"
      ]
     },
     "execution_count": 3,
     "metadata": {},
     "output_type": "execute_result"
    }
   ],
   "source": [
    "ce.TargetEncoder(cols=[])"
   ]
  },
  {
   "cell_type": "code",
   "execution_count": 3,
   "metadata": {},
   "outputs": [
    {
     "data": {
      "text/plain": [
       "((6019, 13), (1234, 12))"
      ]
     },
     "execution_count": 3,
     "metadata": {},
     "output_type": "execute_result"
    }
   ],
   "source": [
    "data.shape, test.shape"
   ]
  },
  {
   "cell_type": "code",
   "execution_count": 4,
   "metadata": {},
   "outputs": [
    {
     "data": {
      "text/plain": [
       "(Index(['Name', 'Location', 'Year', 'Kilometers_Driven', 'Fuel_Type',\n",
       "        'Transmission', 'Owner_Type', 'Mileage', 'Engine', 'Power', 'Seats',\n",
       "        'New_Price', 'Price'],\n",
       "       dtype='object'),\n",
       " Index(['Name', 'Location', 'Year', 'Kilometers_Driven', 'Fuel_Type',\n",
       "        'Transmission', 'Owner_Type', 'Mileage', 'Engine', 'Power', 'Seats',\n",
       "        'New_Price'],\n",
       "       dtype='object'))"
      ]
     },
     "execution_count": 4,
     "metadata": {},
     "output_type": "execute_result"
    }
   ],
   "source": [
    "data.columns, test.columns"
   ]
  },
  {
   "cell_type": "code",
   "execution_count": 5,
   "metadata": {},
   "outputs": [
    {
     "data": {
      "text/html": [
       "<div>\n",
       "<style scoped>\n",
       "    .dataframe tbody tr th:only-of-type {\n",
       "        vertical-align: middle;\n",
       "    }\n",
       "\n",
       "    .dataframe tbody tr th {\n",
       "        vertical-align: top;\n",
       "    }\n",
       "\n",
       "    .dataframe thead th {\n",
       "        text-align: right;\n",
       "    }\n",
       "</style>\n",
       "<table border=\"1\" class=\"dataframe\">\n",
       "  <thead>\n",
       "    <tr style=\"text-align: right;\">\n",
       "      <th></th>\n",
       "      <th>Year</th>\n",
       "      <th>Kilometers_Driven</th>\n",
       "      <th>Seats</th>\n",
       "      <th>Price</th>\n",
       "    </tr>\n",
       "  </thead>\n",
       "  <tbody>\n",
       "    <tr>\n",
       "      <th>count</th>\n",
       "      <td>6019.000000</td>\n",
       "      <td>6.019000e+03</td>\n",
       "      <td>5977.000000</td>\n",
       "      <td>6019.000000</td>\n",
       "    </tr>\n",
       "    <tr>\n",
       "      <th>mean</th>\n",
       "      <td>2013.358199</td>\n",
       "      <td>5.873838e+04</td>\n",
       "      <td>5.278735</td>\n",
       "      <td>9.479468</td>\n",
       "    </tr>\n",
       "    <tr>\n",
       "      <th>std</th>\n",
       "      <td>3.269742</td>\n",
       "      <td>9.126884e+04</td>\n",
       "      <td>0.808840</td>\n",
       "      <td>11.187917</td>\n",
       "    </tr>\n",
       "    <tr>\n",
       "      <th>min</th>\n",
       "      <td>1998.000000</td>\n",
       "      <td>1.710000e+02</td>\n",
       "      <td>0.000000</td>\n",
       "      <td>0.440000</td>\n",
       "    </tr>\n",
       "    <tr>\n",
       "      <th>25%</th>\n",
       "      <td>2011.000000</td>\n",
       "      <td>3.400000e+04</td>\n",
       "      <td>5.000000</td>\n",
       "      <td>3.500000</td>\n",
       "    </tr>\n",
       "    <tr>\n",
       "      <th>50%</th>\n",
       "      <td>2014.000000</td>\n",
       "      <td>5.300000e+04</td>\n",
       "      <td>5.000000</td>\n",
       "      <td>5.640000</td>\n",
       "    </tr>\n",
       "    <tr>\n",
       "      <th>75%</th>\n",
       "      <td>2016.000000</td>\n",
       "      <td>7.300000e+04</td>\n",
       "      <td>5.000000</td>\n",
       "      <td>9.950000</td>\n",
       "    </tr>\n",
       "    <tr>\n",
       "      <th>max</th>\n",
       "      <td>2019.000000</td>\n",
       "      <td>6.500000e+06</td>\n",
       "      <td>10.000000</td>\n",
       "      <td>160.000000</td>\n",
       "    </tr>\n",
       "  </tbody>\n",
       "</table>\n",
       "</div>"
      ],
      "text/plain": [
       "              Year  Kilometers_Driven        Seats        Price\n",
       "count  6019.000000       6.019000e+03  5977.000000  6019.000000\n",
       "mean   2013.358199       5.873838e+04     5.278735     9.479468\n",
       "std       3.269742       9.126884e+04     0.808840    11.187917\n",
       "min    1998.000000       1.710000e+02     0.000000     0.440000\n",
       "25%    2011.000000       3.400000e+04     5.000000     3.500000\n",
       "50%    2014.000000       5.300000e+04     5.000000     5.640000\n",
       "75%    2016.000000       7.300000e+04     5.000000     9.950000\n",
       "max    2019.000000       6.500000e+06    10.000000   160.000000"
      ]
     },
     "execution_count": 5,
     "metadata": {},
     "output_type": "execute_result"
    }
   ],
   "source": [
    "data.describe()"
   ]
  },
  {
   "cell_type": "code",
   "execution_count": null,
   "metadata": {},
   "outputs": [],
   "source": [
    "def company(item):\n",
    "    \"\"\"Function to extract the first word from the given text description\"\"\"\n",
    "    return item.split()[0]\n",
    "\n",
    "data['Company']=data['Name'].apply(company)   # The first word of the string \"name\" represents the \"company\"\n",
    "test['Company']=test['Name'].apply(company)   # The first word of the string \"name\" represents the \"company\""
   ]
  },
  {
   "cell_type": "code",
   "execution_count": 8,
   "metadata": {},
   "outputs": [],
   "source": [
    "def car(item):\n",
    "    l = item.split()\n",
    "    #print(l)\n",
    "    if len(l)>2:\n",
    "        return l[1]+str(' ')+l[2]\n",
    "    else:\n",
    "        return l[1]\n",
    "\n",
    "data['Car']=data['Name'].apply(car)\n",
    "test['Car']=test['Name'].apply(car)"
   ]
  },
  {
   "cell_type": "code",
   "execution_count": 9,
   "metadata": {},
   "outputs": [],
   "source": [
    "data['Log_Price']=np.log(data['Price'])"
   ]
  },
  {
   "cell_type": "code",
   "execution_count": 10,
   "metadata": {},
   "outputs": [],
   "source": [
    "rare = data.Company.value_counts()[data.Company.value_counts(normalize=True).cumsum()>0.95].index"
   ]
  },
  {
   "cell_type": "code",
   "execution_count": 11,
   "metadata": {},
   "outputs": [],
   "source": [
    "def p(item):\n",
    "    if item in rare:\n",
    "        return 'Others'\n",
    "    else:\n",
    "        return item\n",
    "data['P_Company']=data['Company'].apply(p)\n",
    "test['P_Company']=test['Company'].apply(p)"
   ]
  },
  {
   "cell_type": "code",
   "execution_count": 12,
   "metadata": {},
   "outputs": [],
   "source": [
    "rare2 = data.Car.value_counts()[data.Car.value_counts(normalize=True).cumsum()>0.95].index"
   ]
  },
  {
   "cell_type": "code",
   "execution_count": 13,
   "metadata": {
    "scrolled": true
   },
   "outputs": [],
   "source": [
    "def p(item):\n",
    "    if item in rare2:\n",
    "        return 'Others'\n",
    "    else:\n",
    "        return item\n",
    "data['P_Car']=data['Car'].apply(p)\n",
    "test['P_Car']=test['Car'].apply(p)"
   ]
  },
  {
   "cell_type": "code",
   "execution_count": 14,
   "metadata": {},
   "outputs": [],
   "source": [
    "data['Engine'].fillna(0, inplace=True)\n",
    "test['Engine'].fillna(0, inplace=True)"
   ]
  },
  {
   "cell_type": "code",
   "execution_count": 15,
   "metadata": {},
   "outputs": [
    {
     "data": {
      "text/plain": [
       "Index(['Name', 'Location', 'Year', 'Kilometers_Driven', 'Fuel_Type',\n",
       "       'Transmission', 'Owner_Type', 'Mileage', 'Engine', 'Power', 'Seats',\n",
       "       'New_Price', 'Price', 'Company', 'Car', 'Log_Price', 'P_Company',\n",
       "       'P_Car'],\n",
       "      dtype='object')"
      ]
     },
     "execution_count": 15,
     "metadata": {},
     "output_type": "execute_result"
    }
   ],
   "source": [
    "data.columns"
   ]
  },
  {
   "cell_type": "code",
   "execution_count": 16,
   "metadata": {},
   "outputs": [],
   "source": [
    "def p3(item):\n",
    "    if(item):\n",
    "        num = str(item).split()[0]\n",
    "        return int(num)\n",
    "    else:\n",
    "        return item\n",
    "\n",
    "data['Engine']=data['Engine'].apply(p3)\n",
    "test['Engine']=test['Engine'].apply(p3)"
   ]
  },
  {
   "cell_type": "code",
   "execution_count": 17,
   "metadata": {},
   "outputs": [],
   "source": [
    "c=[]\n",
    "for index, row in data.iterrows():\n",
    "    if row['Engine']==0:\n",
    "        c.append(data[data['Car']==row['Car']]['Engine'].mean())\n",
    "    else:\n",
    "        c.append(row['Engine'])\n",
    "        \n",
    "data['P_Engine']=c\n",
    "\n",
    "c=[]\n",
    "for index, row in test.iterrows():\n",
    "    if row['Engine']==0:\n",
    "        c.append(data[data['Car']==row['Car']]['Engine'].mean())\n",
    "    else:\n",
    "        c.append(row['Engine'])\n",
    "        \n",
    "test['P_Engine']=c"
   ]
  },
  {
   "cell_type": "code",
   "execution_count": 18,
   "metadata": {},
   "outputs": [
    {
     "data": {
      "text/plain": [
       "((14, 19), (3, 17))"
      ]
     },
     "execution_count": 18,
     "metadata": {},
     "output_type": "execute_result"
    }
   ],
   "source": [
    "data[data['P_Engine']==0].shape, test[test['P_Engine']==0].shape"
   ]
  },
  {
   "cell_type": "code",
   "execution_count": 19,
   "metadata": {},
   "outputs": [],
   "source": [
    "c=[]\n",
    "for index, row in data.iterrows():\n",
    "    if row['Engine']==0:\n",
    "        c.append(data[data['Company']==row['Company']]['Engine'].mean())\n",
    "    else:\n",
    "        c.append(row['Engine'])\n",
    "        \n",
    "data['P_Engine']=c\n",
    "\n",
    "c=[]\n",
    "for index, row in test.iterrows():\n",
    "    if row['Engine']==0:\n",
    "        c.append(data[data['Company']==row['Company']]['Engine'].mean())\n",
    "    else:\n",
    "        c.append(row['Engine'])\n",
    "        \n",
    "test['P_Engine']=c"
   ]
  },
  {
   "cell_type": "code",
   "execution_count": 20,
   "metadata": {},
   "outputs": [
    {
     "data": {
      "text/plain": [
       "((0, 19), (0, 17))"
      ]
     },
     "execution_count": 20,
     "metadata": {},
     "output_type": "execute_result"
    }
   ],
   "source": [
    "data[data['P_Engine']==0].shape, test[test['P_Engine']==0].shape"
   ]
  },
  {
   "cell_type": "code",
   "execution_count": 21,
   "metadata": {},
   "outputs": [
    {
     "data": {
      "text/plain": [
       "(36, 19)"
      ]
     },
     "execution_count": 21,
     "metadata": {},
     "output_type": "execute_result"
    }
   ],
   "source": [
    "data[data.Power.isnull()].shape"
   ]
  },
  {
   "cell_type": "code",
   "execution_count": 22,
   "metadata": {},
   "outputs": [],
   "source": [
    "data.Power.fillna('null bhp', inplace =True)"
   ]
  },
  {
   "cell_type": "code",
   "execution_count": 23,
   "metadata": {},
   "outputs": [],
   "source": [
    "data.Power = np.where(data.Power=='null bhp', 0, data.Power)\n",
    "test.Power = np.where(test.Power=='null bhp', 0, test.Power)"
   ]
  },
  {
   "cell_type": "code",
   "execution_count": 24,
   "metadata": {},
   "outputs": [],
   "source": [
    "def p4(item):\n",
    "    num = str(item).split()[0]\n",
    "    #print(num)\n",
    "    return float(num)\n",
    "\n",
    "data['P_Power']=data['Power'].apply(p4)\n",
    "test['P_Power']=test['Power'].apply(p4)"
   ]
  },
  {
   "cell_type": "code",
   "execution_count": 25,
   "metadata": {},
   "outputs": [
    {
     "data": {
      "text/plain": [
       "(143, 20)"
      ]
     },
     "execution_count": 25,
     "metadata": {},
     "output_type": "execute_result"
    }
   ],
   "source": [
    "data[data['P_Power']==0].shape"
   ]
  },
  {
   "cell_type": "code",
   "execution_count": 26,
   "metadata": {},
   "outputs": [],
   "source": [
    "c=[]\n",
    "for index, row in data.iterrows():\n",
    "    if row['P_Power']==0:\n",
    "        c.append(data[data['Car']==row['Car']]['P_Power'].mean())\n",
    "    else:\n",
    "        c.append(row['P_Power'])\n",
    "        \n",
    "data['P_Power']=c\n",
    "\n",
    "c=[]\n",
    "for index, row in test.iterrows():\n",
    "    if row['P_Power']==0:\n",
    "        c.append(data[data['Car']==row['Car']]['P_Power'].mean())\n",
    "    else:\n",
    "        c.append(row['P_Power'])\n",
    "        \n",
    "test['P_Power']=c"
   ]
  },
  {
   "cell_type": "code",
   "execution_count": 27,
   "metadata": {},
   "outputs": [
    {
     "data": {
      "text/plain": [
       "((52, 20), (6, 18))"
      ]
     },
     "execution_count": 27,
     "metadata": {},
     "output_type": "execute_result"
    }
   ],
   "source": [
    "data[data['P_Power']==0].shape, test[test['P_Power']==0].shape"
   ]
  },
  {
   "cell_type": "code",
   "execution_count": 28,
   "metadata": {},
   "outputs": [],
   "source": [
    "c=[]\n",
    "for index, row in data.iterrows():\n",
    "    if row['P_Power']==0:\n",
    "        c.append(data[data['Company']==row['Company']]['P_Power'].mean())\n",
    "    else:\n",
    "        c.append(row['P_Power'])\n",
    "        \n",
    "data['P_Power']=c\n",
    "\n",
    "c=[]\n",
    "for index, row in test.iterrows():\n",
    "    if row['P_Power']==0:\n",
    "        c.append(data[data['Company']==row['Company']]['P_Power'].mean())\n",
    "    else:\n",
    "        c.append(row['P_Power'])\n",
    "        \n",
    "test['P_Power']=c"
   ]
  },
  {
   "cell_type": "code",
   "execution_count": 29,
   "metadata": {},
   "outputs": [
    {
     "data": {
      "text/plain": [
       "((1, 20), (0, 18))"
      ]
     },
     "execution_count": 29,
     "metadata": {},
     "output_type": "execute_result"
    }
   ],
   "source": [
    "data[data['P_Power']==0].shape, test[test['P_Power']==0].shape"
   ]
  },
  {
   "cell_type": "code",
   "execution_count": 30,
   "metadata": {},
   "outputs": [],
   "source": [
    "c=[]\n",
    "for index, row in data.iterrows():\n",
    "    if row['P_Power']==0:\n",
    "        c.append(data['P_Power'].mean())\n",
    "    else:\n",
    "        c.append(row['P_Power'])\n",
    "        \n",
    "data['P_Power']=c"
   ]
  },
  {
   "cell_type": "code",
   "execution_count": 31,
   "metadata": {},
   "outputs": [
    {
     "data": {
      "text/plain": [
       "((0, 20), (0, 18))"
      ]
     },
     "execution_count": 31,
     "metadata": {},
     "output_type": "execute_result"
    }
   ],
   "source": [
    "data[data['P_Power']==0].shape, test[test['P_Power']==0].shape"
   ]
  },
  {
   "cell_type": "code",
   "execution_count": 34,
   "metadata": {},
   "outputs": [
    {
     "data": {
      "text/plain": [
       "<matplotlib.axes._subplots.AxesSubplot at 0x18868417588>"
      ]
     },
     "execution_count": 34,
     "metadata": {},
     "output_type": "execute_result"
    },
    {
     "data": {
      "image/png": "[encoded data removed]",
      "text/plain": [
       "<Figure size 432x288 with 1 Axes>"
      ]
     },
     "metadata": {},
     "output_type": "display_data"
    }
   ],
   "source": [
    "data.P_Power.hist()"
   ]
  },
  {
   "cell_type": "code",
   "execution_count": 33,
   "metadata": {},
   "outputs": [
    {
     "data": {
      "text/plain": [
       "<matplotlib.axes._subplots.AxesSubplot at 0x18869a40c88>"
      ]
     },
     "execution_count": 33,
     "metadata": {},
     "output_type": "execute_result"
    },
    {
     "data": {
      "image/png": "[encoded data removed]",
      "text/plain": [
       "<Figure size 432x288 with 1 Axes>"
      ]
     },
     "metadata": {},
     "output_type": "display_data"
    }
   ],
   "source": [
    "np.log(data.P_Power).hist()"
   ]
  },
  {
   "cell_type": "code",
   "execution_count": 35,
   "metadata": {},
   "outputs": [],
   "source": [
    "data['P_Power']=np.log(data['P_Power'])\n",
    "test['P_Power']=np.log(test['P_Power'])"
   ]
  },
  {
   "cell_type": "code",
   "execution_count": 36,
   "metadata": {},
   "outputs": [
    {
     "data": {
      "text/plain": [
       "<matplotlib.axes._subplots.AxesSubplot at 0x18869b3f828>"
      ]
     },
     "execution_count": 36,
     "metadata": {},
     "output_type": "execute_result"
    },
    {
     "data": {
      "image/png": "[encoded data removed]",
      "text/plain": [
       "<Figure size 432x288 with 1 Axes>"
      ]
     },
     "metadata": {},
     "output_type": "display_data"
    }
   ],
   "source": [
    "data.P_Engine.hist()"
   ]
  },
  {
   "cell_type": "code",
   "execution_count": 37,
   "metadata": {},
   "outputs": [
    {
     "data": {
      "text/plain": [
       "<matplotlib.axes._subplots.AxesSubplot at 0x18869bb0c88>"
      ]
     },
     "execution_count": 37,
     "metadata": {},
     "output_type": "execute_result"
    },
    {
     "data": {
      "image/png": "[encoded data removed]",
      "text/plain": [
       "<Figure size 432x288 with 1 Axes>"
      ]
     },
     "metadata": {},
     "output_type": "display_data"
    }
   ],
   "source": [
    "np.log(data.P_Engine).hist()"
   ]
  },
  {
   "cell_type": "code",
   "execution_count": 38,
   "metadata": {},
   "outputs": [],
   "source": [
    "data['P_Engine']=np.log(data['P_Engine'])\n",
    "test['P_Engine']=np.log(test['P_Engine'])"
   ]
  },
  {
   "cell_type": "code",
   "execution_count": 39,
   "metadata": {},
   "outputs": [
    {
     "data": {
      "text/plain": [
       "5.0     5014\n",
       "7.0      674\n",
       "8.0      134\n",
       "4.0       99\n",
       "6.0       31\n",
       "2.0       16\n",
       "10.0       5\n",
       "9.0        3\n",
       "0.0        1\n",
       "Name: Seats, dtype: int64"
      ]
     },
     "execution_count": 39,
     "metadata": {},
     "output_type": "execute_result"
    }
   ],
   "source": [
    "data.Seats.value_counts()"
   ]
  },
  {
   "cell_type": "code",
   "execution_count": 41,
   "metadata": {},
   "outputs": [],
   "source": [
    "data['Seats']= np.where(data['Seats']==0, 5, data['Seats'])"
   ]
  },
  {
   "cell_type": "code",
   "execution_count": 42,
   "metadata": {},
   "outputs": [
    {
     "data": {
      "text/plain": [
       "((42, 20), (11, 18))"
      ]
     },
     "execution_count": 42,
     "metadata": {},
     "output_type": "execute_result"
    }
   ],
   "source": [
    "data[data['Seats'].isnull()].shape, test[test['Seats'].isnull()].shape"
   ]
  },
  {
   "cell_type": "code",
   "execution_count": 43,
   "metadata": {},
   "outputs": [],
   "source": [
    "data.Seats.fillna(0, inplace=True)\n",
    "test.Seats.fillna(0, inplace=True)"
   ]
  },
  {
   "cell_type": "code",
   "execution_count": 44,
   "metadata": {},
   "outputs": [],
   "source": [
    "c=[]\n",
    "for index, row in data.iterrows():\n",
    "    if row['Seats']==0:\n",
    "        c.append(data[data['Car']==row['Car']]['Seats'].mean())\n",
    "    else:\n",
    "        c.append(row['Seats'])\n",
    "        \n",
    "data['Seats']=c\n",
    "\n",
    "c=[]\n",
    "for index, row in test.iterrows():\n",
    "    if row['Seats']==0:\n",
    "        c.append(data[data['Car']==row['Car']]['Seats'].mean())\n",
    "    else:\n",
    "        c.append(row['Seats'])\n",
    "        \n",
    "test['Seats']=c"
   ]
  },
  {
   "cell_type": "code",
   "execution_count": 45,
   "metadata": {},
   "outputs": [
    {
     "data": {
      "text/plain": [
       "((17, 20), (3, 18))"
      ]
     },
     "execution_count": 45,
     "metadata": {},
     "output_type": "execute_result"
    }
   ],
   "source": [
    "data[data['Seats']==0].shape, test[test['Seats']==0].shape"
   ]
  },
  {
   "cell_type": "code",
   "execution_count": 46,
   "metadata": {},
   "outputs": [],
   "source": [
    "c=[]\n",
    "for index, row in data.iterrows():\n",
    "    if row['Seats']==0:\n",
    "        c.append(data[data['Company']==row['Company']]['Seats'].mean())\n",
    "    else:\n",
    "        c.append(row['Seats'])\n",
    "        \n",
    "data['Seats']=c\n",
    "\n",
    "c=[]\n",
    "for index, row in test.iterrows():\n",
    "    if row['Seats']==0:\n",
    "        c.append(data[data['Company']==row['Company']]['Seats'].mean())\n",
    "    else:\n",
    "        c.append(row['Seats'])\n",
    "        \n",
    "test['Seats']=c"
   ]
  },
  {
   "cell_type": "code",
   "execution_count": 47,
   "metadata": {},
   "outputs": [
    {
     "data": {
      "text/plain": [
       "((0, 20), (0, 18))"
      ]
     },
     "execution_count": 47,
     "metadata": {},
     "output_type": "execute_result"
    }
   ],
   "source": [
    "data[data['Seats']==0].shape, test[test['Seats']==0].shape"
   ]
  },
  {
   "cell_type": "code",
   "execution_count": 55,
   "metadata": {},
   "outputs": [],
   "source": [
    "def conv(item):\n",
    "    return np.round(item)\n",
    "\n",
    "data['Seats']=data['Seats'].apply(conv)\n",
    "test['Seats']=test['Seats'].apply(conv)"
   ]
  },
  {
   "cell_type": "code",
   "execution_count": 57,
   "metadata": {},
   "outputs": [
    {
     "data": {
      "text/plain": [
       "5.0     1041\n",
       "7.0      123\n",
       "8.0       36\n",
       "4.0       20\n",
       "6.0        7\n",
       "10.0       3\n",
       "2.0        2\n",
       "Name: Seats, dtype: int64"
      ]
     },
     "execution_count": 57,
     "metadata": {},
     "output_type": "execute_result"
    }
   ],
   "source": [
    "test.Seats.value_counts()"
   ]
  },
  {
   "cell_type": "code",
   "execution_count": 58,
   "metadata": {},
   "outputs": [
    {
     "data": {
      "text/plain": [
       "((6019, 20), (1234, 18))"
      ]
     },
     "execution_count": 58,
     "metadata": {},
     "output_type": "execute_result"
    }
   ],
   "source": [
    "data.shape, test.shape"
   ]
  },
  {
   "cell_type": "code",
   "execution_count": 59,
   "metadata": {},
   "outputs": [],
   "source": [
    "data.to_csv('Processed.csv')\n",
    "test.to_csv('Processed_Test.csv')"
   ]
  },
  {
   "cell_type": "code",
   "execution_count": 88,
   "metadata": {},
   "outputs": [],
   "source": [
    "data = pd.read_csv('Processed.csv')\n",
    "test = pd.read_csv('Processed_Test.csv')"
   ]
  },
  {
   "cell_type": "code",
   "execution_count": 78,
   "metadata": {},
   "outputs": [
    {
     "data": {
      "text/plain": [
       "<matplotlib.axes._subplots.AxesSubplot at 0x18868555e48>"
      ]
     },
     "execution_count": 78,
     "metadata": {},
     "output_type": "execute_result"
    },
    {
     "data": {
      "image/png": "[encoded data removed]",
      "text/plain": [
       "<Figure size 432x288 with 1 Axes>"
      ]
     },
     "metadata": {},
     "output_type": "display_data"
    }
   ],
   "source": [
    "(data.Seats).hist()"
   ]
  },
  {
   "cell_type": "code",
   "execution_count": 89,
   "metadata": {},
   "outputs": [
    {
     "data": {
      "text/plain": [
       "((0, 19), (2, 21))"
      ]
     },
     "execution_count": 89,
     "metadata": {},
     "output_type": "execute_result"
    }
   ],
   "source": [
    "test[(test.Mileage.isnull())].shape, data[(data.Mileage.isnull())].shape"
   ]
  },
  {
   "cell_type": "code",
   "execution_count": 90,
   "metadata": {},
   "outputs": [],
   "source": [
    "data.Mileage.fillna('-1', inplace=True)"
   ]
  },
  {
   "cell_type": "code",
   "execution_count": 91,
   "metadata": {},
   "outputs": [],
   "source": [
    "def conv(item):\n",
    "    #print(item)\n",
    "    l = item.split()\n",
    "    #print(l)\n",
    "    return float(l[0])\n",
    "\n",
    "data['Mileage']=data['Mileage'].apply(conv)\n",
    "test['Mileage']=test['Mileage'].apply(conv)"
   ]
  },
  {
   "cell_type": "code",
   "execution_count": 93,
   "metadata": {},
   "outputs": [
    {
     "data": {
      "text/plain": [
       "((2, 21), (0, 19))"
      ]
     },
     "execution_count": 93,
     "metadata": {},
     "output_type": "execute_result"
    }
   ],
   "source": [
    "data[data['Mileage']==-1].shape, test[test['Mileage']==-1].shape"
   ]
  },
  {
   "cell_type": "code",
   "execution_count": 97,
   "metadata": {},
   "outputs": [],
   "source": [
    "c=[]\n",
    "for index, row in data.iterrows():\n",
    "    if row['Mileage']==-1:\n",
    "        c.append(data[(data['Year']==row['Year'])&(data['Company']==row['Company'])]['Mileage'].mean())\n",
    "    else:\n",
    "        c.append(row['Mileage'])\n",
    "        \n",
    "data['Mileage']=c"
   ]
  },
  {
   "cell_type": "code",
   "execution_count": 98,
   "metadata": {},
   "outputs": [
    {
     "data": {
      "text/plain": [
       "((0, 21), (0, 19))"
      ]
     },
     "execution_count": 98,
     "metadata": {},
     "output_type": "execute_result"
    }
   ],
   "source": [
    "data[data['Mileage']==-1].shape, test[test['Mileage']==-1].shape"
   ]
  },
  {
   "cell_type": "code",
   "execution_count": 99,
   "metadata": {},
   "outputs": [
    {
     "data": {
      "text/plain": [
       "((6019, 21), (1234, 19))"
      ]
     },
     "execution_count": 99,
     "metadata": {},
     "output_type": "execute_result"
    }
   ],
   "source": [
    "data.shape, test.shape"
   ]
  },
  {
   "cell_type": "code",
   "execution_count": 100,
   "metadata": {},
   "outputs": [
    {
     "data": {
      "text/plain": [
       "Diesel      3205\n",
       "Petrol      2746\n",
       "CNG           56\n",
       "LPG           10\n",
       "Electric       2\n",
       "Name: Fuel_Type, dtype: int64"
      ]
     },
     "execution_count": 100,
     "metadata": {},
     "output_type": "execute_result"
    }
   ],
   "source": [
    "data.Fuel_Type.value_counts()"
   ]
  },
  {
   "cell_type": "code",
   "execution_count": 104,
   "metadata": {},
   "outputs": [
    {
     "data": {
      "text/plain": [
       "<matplotlib.axes._subplots.AxesSubplot at 0x1886a2b00b8>"
      ]
     },
     "execution_count": 104,
     "metadata": {},
     "output_type": "execute_result"
    },
    {
     "data": {
      "image/png": "[encoded data removed]",
      "text/plain": [
       "<Figure size 432x288 with 1 Axes>"
      ]
     },
     "metadata": {},
     "output_type": "display_data"
    }
   ],
   "source": [
    "data.Mileage.hist()"
   ]
  },
  {
   "cell_type": "code",
   "execution_count": 106,
   "metadata": {},
   "outputs": [
    {
     "data": {
      "text/plain": [
       "(68, 21)"
      ]
     },
     "execution_count": 106,
     "metadata": {},
     "output_type": "execute_result"
    }
   ],
   "source": [
    "data[data.Mileage==0].shape"
   ]
  },
  {
   "cell_type": "code",
   "execution_count": 107,
   "metadata": {},
   "outputs": [],
   "source": [
    "data.to_csv('Processed.csv')"
   ]
  },
  {
   "cell_type": "code",
   "execution_count": 214,
   "metadata": {},
   "outputs": [],
   "source": [
    "data = pd.read_csv('Processed.csv')"
   ]
  },
  {
   "cell_type": "code",
   "execution_count": 108,
   "metadata": {},
   "outputs": [],
   "source": [
    "test.to_csv('Processed_Test.csv')"
   ]
  },
  {
   "cell_type": "code",
   "execution_count": 215,
   "metadata": {},
   "outputs": [],
   "source": [
    "test = pd.read_csv('Processed_Test.csv')"
   ]
  },
  {
   "cell_type": "code",
   "execution_count": 166,
   "metadata": {},
   "outputs": [
    {
     "data": {
      "text/plain": [
       "(Index(['Unnamed: 0', 'Unnamed: 0.1', 'Name', 'Location', 'Year',\n",
       "        'Kilometers_Driven', 'Fuel_Type', 'Transmission', 'Owner_Type',\n",
       "        'Mileage', 'Engine', 'Power', 'Seats', 'New_Price', 'Price', 'Company',\n",
       "        'Car', 'Log_Price', 'P_Company', 'P_Car', 'P_Engine', 'P_Power'],\n",
       "       dtype='object'),\n",
       " Index(['Unnamed: 0', 'Unnamed: 0.1', 'Name', 'Location', 'Year',\n",
       "        'Kilometers_Driven', 'Fuel_Type', 'Transmission', 'Owner_Type',\n",
       "        'Mileage', 'Engine', 'Power', 'Seats', 'New_Price', 'Company', 'Car',\n",
       "        'P_Company', 'P_Car', 'P_Engine', 'P_Power'],\n",
       "       dtype='object'))"
      ]
     },
     "execution_count": 166,
     "metadata": {},
     "output_type": "execute_result"
    }
   ],
   "source": [
    "data.columns, test.columns"
   ]
  },
  {
   "cell_type": "code",
   "execution_count": 216,
   "metadata": {},
   "outputs": [],
   "source": [
    "data.New_Price.fillna('-1 Lakh', inplace=True)\n",
    "test.New_Price.fillna('-1 Lakh', inplace=True)"
   ]
  },
  {
   "cell_type": "code",
   "execution_count": 191,
   "metadata": {
    "collapsed": true
   },
   "outputs": [
    {
     "data": {
      "text/plain": [
       "-1 Lakh       5195\n",
       "63.71 Lakh       6\n",
       "4.78 Lakh        6\n",
       "95.13 Lakh       6\n",
       "11.26 Lakh       5\n",
       "47.87 Lakh       5\n",
       "44.28 Lakh       5\n",
       "4.98 Lakh        5\n",
       "11.67 Lakh       5\n",
       "7.88 Lakh        4\n",
       "6.62 Lakh        4\n",
       "19.18 Lakh       4\n",
       "10.32 Lakh       4\n",
       "5.04 Lakh        4\n",
       "7.63 Lakh        4\n",
       "33.36 Lakh       4\n",
       "28.05 Lakh       4\n",
       "15.05 Lakh       4\n",
       "12.56 Lakh       4\n",
       "20.74 Lakh       4\n",
       "11.15 Lakh       4\n",
       "15.86 Lakh       4\n",
       "11.27 Lakh       4\n",
       "11.75 Lakh       4\n",
       "8.1 Lakh         4\n",
       "48.18 Lakh       4\n",
       "8.78 Lakh        3\n",
       "10.83 Lakh       3\n",
       "11.47 Lakh       3\n",
       "54.43 Lakh       3\n",
       "              ... \n",
       "6 Lakh           1\n",
       "22.37 Lakh       1\n",
       "43.81 Lakh       1\n",
       "22.86 Lakh       1\n",
       "9.04 Lakh        1\n",
       "69.47 Lakh       1\n",
       "10.97 Lakh       1\n",
       "2.3 Cr           1\n",
       "24.63 Lakh       1\n",
       "39.22 Lakh       1\n",
       "9.09 Lakh        1\n",
       "25.54 Lakh       1\n",
       "23.37 Lakh       1\n",
       "14.84 Lakh       1\n",
       "9.36 Lakh        1\n",
       "24.82 Lakh       1\n",
       "9.44 Lakh        1\n",
       "4.45 Lakh        1\n",
       "8.82 Lakh        1\n",
       "17.38 Lakh       1\n",
       "7.77 Lakh        1\n",
       "3.95 Lakh        1\n",
       "11.52 Lakh       1\n",
       "69.22 Lakh       1\n",
       "11.71 Lakh       1\n",
       "15.38 Lakh       1\n",
       "12.74 Lakh       1\n",
       "8.26 Lakh        1\n",
       "11.37 Lakh       1\n",
       "4.83 Lakh        1\n",
       "Name: New_Price, Length: 541, dtype: int64"
      ]
     },
     "execution_count": 191,
     "metadata": {},
     "output_type": "execute_result"
    }
   ],
   "source": [
    "data.New_Price.value_counts()"
   ]
  },
  {
   "cell_type": "code",
   "execution_count": 217,
   "metadata": {},
   "outputs": [],
   "source": [
    "def conv(item):\n",
    "    #print(item)\n",
    "    string = item.split()\n",
    "    if string[1]=='Cr':\n",
    "        return float(string[0])*100\n",
    "    else:\n",
    "        return float(string[0])\n",
    "\n",
    "data['P_New_Price']=data['New_Price'].apply(conv)\n",
    "test['P_New_Price']=data['New_Price'].apply(conv)"
   ]
  },
  {
   "cell_type": "code",
   "execution_count": 194,
   "metadata": {
    "collapsed": true
   },
   "outputs": [
    {
     "data": {
      "text/plain": [
       "-1.00     5195\n",
       " 95.13       6\n",
       " 63.71       6\n",
       " 4.78        6\n",
       " 11.26       5\n",
       " 4.98        5\n",
       " 44.28       5\n",
       " 11.67       5\n",
       " 47.87       5\n",
       " 48.18       4\n",
       " 7.63        4\n",
       " 15.86       4\n",
       " 28.05       4\n",
       " 33.36       4\n",
       " 15.05       4\n",
       " 7.88        4\n",
       " 12.56       4\n",
       " 11.15       4\n",
       " 11.75       4\n",
       " 20.74       4\n",
       " 11.27       4\n",
       " 6.62        4\n",
       " 5.04        4\n",
       " 19.18       4\n",
       " 8.10        4\n",
       " 10.32       4\n",
       " 6.14        3\n",
       " 5.61        3\n",
       " 24.01       3\n",
       " 48.79       3\n",
       "          ... \n",
       " 17.00       1\n",
       " 9.83        1\n",
       " 66.39       1\n",
       " 12.57       1\n",
       " 8.82        1\n",
       " 19.34       1\n",
       " 8.12        1\n",
       " 11.30       1\n",
       " 10.94       1\n",
       " 69.47       1\n",
       " 5.45        1\n",
       " 9.46        1\n",
       " 20.48       1\n",
       " 53.68       1\n",
       " 8.03        1\n",
       " 8.28        1\n",
       " 67.67       1\n",
       " 7.94        1\n",
       " 15.34       1\n",
       " 37.90       1\n",
       " 33.58       1\n",
       " 10.97       1\n",
       " 8.38        1\n",
       " 6.42        1\n",
       " 23.14       1\n",
       " 75.12       1\n",
       " 57.30       1\n",
       " 33.68       1\n",
       " 4.80        1\n",
       " 4.33        1\n",
       "Name: P_New_Price, Length: 541, dtype: int64"
      ]
     },
     "execution_count": 194,
     "metadata": {},
     "output_type": "execute_result"
    }
   ],
   "source": [
    "data.P_New_Price.value_counts()"
   ]
  },
  {
   "cell_type": "code",
   "execution_count": 218,
   "metadata": {},
   "outputs": [
    {
     "data": {
      "text/plain": [
       "((5195, 23), (1063, 21))"
      ]
     },
     "execution_count": 218,
     "metadata": {},
     "output_type": "execute_result"
    }
   ],
   "source": [
    "data[data['P_New_Price']==-1].shape, test[test['P_New_Price']==-1].shape"
   ]
  },
  {
   "cell_type": "code",
   "execution_count": 219,
   "metadata": {},
   "outputs": [],
   "source": [
    "c=[]\n",
    "for index, row in data.iterrows():\n",
    "    if row['P_New_Price']==-1:\n",
    "        c.append(data[(data['Car']==row['Car'])&(data['P_New_Price']!=-1)]['P_New_Price'].mean())\n",
    "    else:\n",
    "        c.append(row['P_New_Price'])\n",
    "        \n",
    "data['P_New_Price']=c\n",
    "\n",
    "c=[]\n",
    "for index, row in test.iterrows():\n",
    "    if row['P_New_Price']==-1:\n",
    "        c.append(data[(data['Car']==row['Car'])&(data['P_New_Price']!=-1)]['P_New_Price'].mean())\n",
    "    else:\n",
    "        c.append(row['P_New_Price'])\n",
    "        \n",
    "test['P_New_Price']=c"
   ]
  },
  {
   "cell_type": "code",
   "execution_count": 220,
   "metadata": {},
   "outputs": [
    {
     "data": {
      "text/plain": [
       "((0, 23), (0, 21))"
      ]
     },
     "execution_count": 220,
     "metadata": {},
     "output_type": "execute_result"
    }
   ],
   "source": [
    "data[data['P_New_Price']==-1].shape, test[test['P_New_Price']==-1].shape"
   ]
  },
  {
   "cell_type": "code",
   "execution_count": 207,
   "metadata": {
    "collapsed": true
   },
   "outputs": [
    {
     "data": {
      "text/plain": [
       "5.486571      119\n",
       "7.346579      114\n",
       "49.490000      94\n",
       "8.055714       76\n",
       "16.687500      71\n",
       "52.929355      67\n",
       "8.100000       56\n",
       "68.545000      54\n",
       "21.538462      39\n",
       "15.037143      38\n",
       "11.270000      35\n",
       "6.995000       31\n",
       "5.912000       30\n",
       "8.067500       29\n",
       "12.000000      26\n",
       "136.268333     25\n",
       "12.720000      24\n",
       "4.403333       24\n",
       "9.665000       20\n",
       "6.950000       19\n",
       "11.128750      18\n",
       "4.803333       18\n",
       "8.875000       17\n",
       "12.540000      17\n",
       "14.205455      16\n",
       "10.001250      16\n",
       "10.650000      14\n",
       "40.455000      14\n",
       "14.808000      14\n",
       "48.180000      14\n",
       "             ... \n",
       "9.790000        1\n",
       "6.420000        1\n",
       "23.140000       1\n",
       "75.120000       1\n",
       "57.300000       1\n",
       "33.680000       1\n",
       "10.940000       1\n",
       "9.360000        1\n",
       "99.920000       1\n",
       "10.250000       1\n",
       "95.040000       1\n",
       "40.730000       1\n",
       "11.690000       1\n",
       "25.540000       1\n",
       "5.360000        1\n",
       "39.570000       1\n",
       "7.460000        1\n",
       "66.390000       1\n",
       "12.570000       1\n",
       "9.040000        1\n",
       "8.910000        1\n",
       "60.590000       1\n",
       "71.150000       1\n",
       "5.690000        1\n",
       "8.850000        1\n",
       "4.900000        1\n",
       "23.940000       1\n",
       "10.410000       1\n",
       "6.050000        1\n",
       "100.000000      1\n",
       "Name: P_New_Price, Length: 600, dtype: int64"
      ]
     },
     "execution_count": 207,
     "metadata": {},
     "output_type": "execute_result"
    }
   ],
   "source": [
    "data.P_New_Price.value_counts()"
   ]
  },
  {
   "cell_type": "code",
   "execution_count": 210,
   "metadata": {
    "collapsed": true
   },
   "outputs": [
    {
     "data": {
      "text/html": [
       "<div>\n",
       "<style scoped>\n",
       "    .dataframe tbody tr th:only-of-type {\n",
       "        vertical-align: middle;\n",
       "    }\n",
       "\n",
       "    .dataframe tbody tr th {\n",
       "        vertical-align: top;\n",
       "    }\n",
       "\n",
       "    .dataframe thead th {\n",
       "        text-align: right;\n",
       "    }\n",
       "</style>\n",
       "<table border=\"1\" class=\"dataframe\">\n",
       "  <thead>\n",
       "    <tr style=\"text-align: right;\">\n",
       "      <th></th>\n",
       "      <th>New_Price</th>\n",
       "      <th>P_New_Price</th>\n",
       "    </tr>\n",
       "  </thead>\n",
       "  <tbody>\n",
       "    <tr>\n",
       "      <th>0</th>\n",
       "      <td>-1 Lakh</td>\n",
       "      <td>5.486571</td>\n",
       "    </tr>\n",
       "    <tr>\n",
       "      <th>1</th>\n",
       "      <td>-1 Lakh</td>\n",
       "      <td>16.687500</td>\n",
       "    </tr>\n",
       "    <tr>\n",
       "      <th>2</th>\n",
       "      <td>8.61 Lakh</td>\n",
       "      <td>8.610000</td>\n",
       "    </tr>\n",
       "    <tr>\n",
       "      <th>3</th>\n",
       "      <td>-1 Lakh</td>\n",
       "      <td>11.128750</td>\n",
       "    </tr>\n",
       "    <tr>\n",
       "      <th>4</th>\n",
       "      <td>-1 Lakh</td>\n",
       "      <td>NaN</td>\n",
       "    </tr>\n",
       "    <tr>\n",
       "      <th>5</th>\n",
       "      <td>-1 Lakh</td>\n",
       "      <td>NaN</td>\n",
       "    </tr>\n",
       "    <tr>\n",
       "      <th>6</th>\n",
       "      <td>-1 Lakh</td>\n",
       "      <td>NaN</td>\n",
       "    </tr>\n",
       "    <tr>\n",
       "      <th>7</th>\n",
       "      <td>21 Lakh</td>\n",
       "      <td>21.000000</td>\n",
       "    </tr>\n",
       "    <tr>\n",
       "      <th>8</th>\n",
       "      <td>-1 Lakh</td>\n",
       "      <td>NaN</td>\n",
       "    </tr>\n",
       "    <tr>\n",
       "      <th>9</th>\n",
       "      <td>-1 Lakh</td>\n",
       "      <td>NaN</td>\n",
       "    </tr>\n",
       "    <tr>\n",
       "      <th>10</th>\n",
       "      <td>10.65 Lakh</td>\n",
       "      <td>10.650000</td>\n",
       "    </tr>\n",
       "    <tr>\n",
       "      <th>11</th>\n",
       "      <td>-1 Lakh</td>\n",
       "      <td>NaN</td>\n",
       "    </tr>\n",
       "    <tr>\n",
       "      <th>12</th>\n",
       "      <td>-1 Lakh</td>\n",
       "      <td>8.055714</td>\n",
       "    </tr>\n",
       "    <tr>\n",
       "      <th>13</th>\n",
       "      <td>-1 Lakh</td>\n",
       "      <td>136.268333</td>\n",
       "    </tr>\n",
       "    <tr>\n",
       "      <th>14</th>\n",
       "      <td>-1 Lakh</td>\n",
       "      <td>NaN</td>\n",
       "    </tr>\n",
       "    <tr>\n",
       "      <th>15</th>\n",
       "      <td>32.01 Lakh</td>\n",
       "      <td>32.010000</td>\n",
       "    </tr>\n",
       "    <tr>\n",
       "      <th>16</th>\n",
       "      <td>-1 Lakh</td>\n",
       "      <td>8.100000</td>\n",
       "    </tr>\n",
       "    <tr>\n",
       "      <th>17</th>\n",
       "      <td>-1 Lakh</td>\n",
       "      <td>NaN</td>\n",
       "    </tr>\n",
       "    <tr>\n",
       "      <th>18</th>\n",
       "      <td>-1 Lakh</td>\n",
       "      <td>11.270000</td>\n",
       "    </tr>\n",
       "    <tr>\n",
       "      <th>19</th>\n",
       "      <td>-1 Lakh</td>\n",
       "      <td>49.490000</td>\n",
       "    </tr>\n",
       "    <tr>\n",
       "      <th>20</th>\n",
       "      <td>47.87 Lakh</td>\n",
       "      <td>47.870000</td>\n",
       "    </tr>\n",
       "    <tr>\n",
       "      <th>21</th>\n",
       "      <td>-1 Lakh</td>\n",
       "      <td>NaN</td>\n",
       "    </tr>\n",
       "    <tr>\n",
       "      <th>22</th>\n",
       "      <td>-1 Lakh</td>\n",
       "      <td>NaN</td>\n",
       "    </tr>\n",
       "    <tr>\n",
       "      <th>23</th>\n",
       "      <td>-1 Lakh</td>\n",
       "      <td>NaN</td>\n",
       "    </tr>\n",
       "    <tr>\n",
       "      <th>24</th>\n",
       "      <td>-1 Lakh</td>\n",
       "      <td>NaN</td>\n",
       "    </tr>\n",
       "    <tr>\n",
       "      <th>25</th>\n",
       "      <td>-1 Lakh</td>\n",
       "      <td>NaN</td>\n",
       "    </tr>\n",
       "    <tr>\n",
       "      <th>26</th>\n",
       "      <td>-1 Lakh</td>\n",
       "      <td>NaN</td>\n",
       "    </tr>\n",
       "    <tr>\n",
       "      <th>27</th>\n",
       "      <td>-1 Lakh</td>\n",
       "      <td>4.403333</td>\n",
       "    </tr>\n",
       "    <tr>\n",
       "      <th>28</th>\n",
       "      <td>10.57 Lakh</td>\n",
       "      <td>10.570000</td>\n",
       "    </tr>\n",
       "    <tr>\n",
       "      <th>29</th>\n",
       "      <td>-1 Lakh</td>\n",
       "      <td>NaN</td>\n",
       "    </tr>\n",
       "    <tr>\n",
       "      <th>...</th>\n",
       "      <td>...</td>\n",
       "      <td>...</td>\n",
       "    </tr>\n",
       "    <tr>\n",
       "      <th>5989</th>\n",
       "      <td>53.14 Lakh</td>\n",
       "      <td>53.140000</td>\n",
       "    </tr>\n",
       "    <tr>\n",
       "      <th>5990</th>\n",
       "      <td>-1 Lakh</td>\n",
       "      <td>NaN</td>\n",
       "    </tr>\n",
       "    <tr>\n",
       "      <th>5991</th>\n",
       "      <td>-1 Lakh</td>\n",
       "      <td>8.055714</td>\n",
       "    </tr>\n",
       "    <tr>\n",
       "      <th>5992</th>\n",
       "      <td>-1 Lakh</td>\n",
       "      <td>NaN</td>\n",
       "    </tr>\n",
       "    <tr>\n",
       "      <th>5993</th>\n",
       "      <td>-1 Lakh</td>\n",
       "      <td>NaN</td>\n",
       "    </tr>\n",
       "    <tr>\n",
       "      <th>5994</th>\n",
       "      <td>-1 Lakh</td>\n",
       "      <td>NaN</td>\n",
       "    </tr>\n",
       "    <tr>\n",
       "      <th>5995</th>\n",
       "      <td>-1 Lakh</td>\n",
       "      <td>11.270000</td>\n",
       "    </tr>\n",
       "    <tr>\n",
       "      <th>5996</th>\n",
       "      <td>-1 Lakh</td>\n",
       "      <td>NaN</td>\n",
       "    </tr>\n",
       "    <tr>\n",
       "      <th>5997</th>\n",
       "      <td>-1 Lakh</td>\n",
       "      <td>5.486571</td>\n",
       "    </tr>\n",
       "    <tr>\n",
       "      <th>5998</th>\n",
       "      <td>-1 Lakh</td>\n",
       "      <td>NaN</td>\n",
       "    </tr>\n",
       "    <tr>\n",
       "      <th>5999</th>\n",
       "      <td>7.77 Lakh</td>\n",
       "      <td>7.770000</td>\n",
       "    </tr>\n",
       "    <tr>\n",
       "      <th>6000</th>\n",
       "      <td>-1 Lakh</td>\n",
       "      <td>NaN</td>\n",
       "    </tr>\n",
       "    <tr>\n",
       "      <th>6001</th>\n",
       "      <td>-1 Lakh</td>\n",
       "      <td>NaN</td>\n",
       "    </tr>\n",
       "    <tr>\n",
       "      <th>6002</th>\n",
       "      <td>11.91 Lakh</td>\n",
       "      <td>11.910000</td>\n",
       "    </tr>\n",
       "    <tr>\n",
       "      <th>6003</th>\n",
       "      <td>-1 Lakh</td>\n",
       "      <td>5.912000</td>\n",
       "    </tr>\n",
       "    <tr>\n",
       "      <th>6004</th>\n",
       "      <td>-1 Lakh</td>\n",
       "      <td>NaN</td>\n",
       "    </tr>\n",
       "    <tr>\n",
       "      <th>6005</th>\n",
       "      <td>9.93 Lakh</td>\n",
       "      <td>9.930000</td>\n",
       "    </tr>\n",
       "    <tr>\n",
       "      <th>6006</th>\n",
       "      <td>-1 Lakh</td>\n",
       "      <td>NaN</td>\n",
       "    </tr>\n",
       "    <tr>\n",
       "      <th>6007</th>\n",
       "      <td>-1 Lakh</td>\n",
       "      <td>NaN</td>\n",
       "    </tr>\n",
       "    <tr>\n",
       "      <th>6008</th>\n",
       "      <td>-1 Lakh</td>\n",
       "      <td>NaN</td>\n",
       "    </tr>\n",
       "    <tr>\n",
       "      <th>6009</th>\n",
       "      <td>-1 Lakh</td>\n",
       "      <td>40.620000</td>\n",
       "    </tr>\n",
       "    <tr>\n",
       "      <th>6010</th>\n",
       "      <td>6.63 Lakh</td>\n",
       "      <td>6.630000</td>\n",
       "    </tr>\n",
       "    <tr>\n",
       "      <th>6011</th>\n",
       "      <td>-1 Lakh</td>\n",
       "      <td>NaN</td>\n",
       "    </tr>\n",
       "    <tr>\n",
       "      <th>6012</th>\n",
       "      <td>-1 Lakh</td>\n",
       "      <td>NaN</td>\n",
       "    </tr>\n",
       "    <tr>\n",
       "      <th>6013</th>\n",
       "      <td>-1 Lakh</td>\n",
       "      <td>9.665000</td>\n",
       "    </tr>\n",
       "    <tr>\n",
       "      <th>6014</th>\n",
       "      <td>7.88 Lakh</td>\n",
       "      <td>7.880000</td>\n",
       "    </tr>\n",
       "    <tr>\n",
       "      <th>6015</th>\n",
       "      <td>-1 Lakh</td>\n",
       "      <td>NaN</td>\n",
       "    </tr>\n",
       "    <tr>\n",
       "      <th>6016</th>\n",
       "      <td>-1 Lakh</td>\n",
       "      <td>11.680000</td>\n",
       "    </tr>\n",
       "    <tr>\n",
       "      <th>6017</th>\n",
       "      <td>-1 Lakh</td>\n",
       "      <td>5.486571</td>\n",
       "    </tr>\n",
       "    <tr>\n",
       "      <th>6018</th>\n",
       "      <td>-1 Lakh</td>\n",
       "      <td>NaN</td>\n",
       "    </tr>\n",
       "  </tbody>\n",
       "</table>\n",
       "<p>6019 rows × 2 columns</p>\n",
       "</div>"
      ],
      "text/plain": [
       "       New_Price  P_New_Price\n",
       "0        -1 Lakh     5.486571\n",
       "1        -1 Lakh    16.687500\n",
       "2      8.61 Lakh     8.610000\n",
       "3        -1 Lakh    11.128750\n",
       "4        -1 Lakh          NaN\n",
       "5        -1 Lakh          NaN\n",
       "6        -1 Lakh          NaN\n",
       "7        21 Lakh    21.000000\n",
       "8        -1 Lakh          NaN\n",
       "9        -1 Lakh          NaN\n",
       "10    10.65 Lakh    10.650000\n",
       "11       -1 Lakh          NaN\n",
       "12       -1 Lakh     8.055714\n",
       "13       -1 Lakh   136.268333\n",
       "14       -1 Lakh          NaN\n",
       "15    32.01 Lakh    32.010000\n",
       "16       -1 Lakh     8.100000\n",
       "17       -1 Lakh          NaN\n",
       "18       -1 Lakh    11.270000\n",
       "19       -1 Lakh    49.490000\n",
       "20    47.87 Lakh    47.870000\n",
       "21       -1 Lakh          NaN\n",
       "22       -1 Lakh          NaN\n",
       "23       -1 Lakh          NaN\n",
       "24       -1 Lakh          NaN\n",
       "25       -1 Lakh          NaN\n",
       "26       -1 Lakh          NaN\n",
       "27       -1 Lakh     4.403333\n",
       "28    10.57 Lakh    10.570000\n",
       "29       -1 Lakh          NaN\n",
       "...          ...          ...\n",
       "5989  53.14 Lakh    53.140000\n",
       "5990     -1 Lakh          NaN\n",
       "5991     -1 Lakh     8.055714\n",
       "5992     -1 Lakh          NaN\n",
       "5993     -1 Lakh          NaN\n",
       "5994     -1 Lakh          NaN\n",
       "5995     -1 Lakh    11.270000\n",
       "5996     -1 Lakh          NaN\n",
       "5997     -1 Lakh     5.486571\n",
       "5998     -1 Lakh          NaN\n",
       "5999   7.77 Lakh     7.770000\n",
       "6000     -1 Lakh          NaN\n",
       "6001     -1 Lakh          NaN\n",
       "6002  11.91 Lakh    11.910000\n",
       "6003     -1 Lakh     5.912000\n",
       "6004     -1 Lakh          NaN\n",
       "6005   9.93 Lakh     9.930000\n",
       "6006     -1 Lakh          NaN\n",
       "6007     -1 Lakh          NaN\n",
       "6008     -1 Lakh          NaN\n",
       "6009     -1 Lakh    40.620000\n",
       "6010   6.63 Lakh     6.630000\n",
       "6011     -1 Lakh          NaN\n",
       "6012     -1 Lakh          NaN\n",
       "6013     -1 Lakh     9.665000\n",
       "6014   7.88 Lakh     7.880000\n",
       "6015     -1 Lakh          NaN\n",
       "6016     -1 Lakh    11.680000\n",
       "6017     -1 Lakh     5.486571\n",
       "6018     -1 Lakh          NaN\n",
       "\n",
       "[6019 rows x 2 columns]"
      ]
     },
     "execution_count": 210,
     "metadata": {},
     "output_type": "execute_result"
    }
   ],
   "source": [
    "data.loc[:,['New_Price','P_New_Price']]"
   ]
  },
  {
   "cell_type": "code",
   "execution_count": 221,
   "metadata": {},
   "outputs": [
    {
     "data": {
      "text/plain": [
       "((3804, 23), (712, 21))"
      ]
     },
     "execution_count": 221,
     "metadata": {},
     "output_type": "execute_result"
    }
   ],
   "source": [
    "data[data['P_New_Price'].isnull()].shape, test[test['P_New_Price'].isnull()].shape"
   ]
  },
  {
   "cell_type": "code",
   "execution_count": 226,
   "metadata": {},
   "outputs": [],
   "source": [
    "data['T_New_Price']=data['P_New_Price']\n",
    "test['T_New_Price']=test['P_New_Price']"
   ]
  },
  {
   "cell_type": "code",
   "execution_count": 228,
   "metadata": {},
   "outputs": [],
   "source": [
    "data['T_New_Price'].fillna(-1, inplace=True)\n",
    "test['T_New_Price'].fillna(-1, inplace=True)"
   ]
  },
  {
   "cell_type": "code",
   "execution_count": 230,
   "metadata": {},
   "outputs": [],
   "source": [
    "c=[]\n",
    "for index, row in data.iterrows():\n",
    "    if row['T_New_Price']==-1:\n",
    "        c.append(data[(data['Company']==row['Company'])&(data['T_New_Price']!=-1)]['T_New_Price'].mean())\n",
    "    else:\n",
    "        c.append(row['T_New_Price'])\n",
    "        \n",
    "data['G_New_Price']=c\n",
    "\n",
    "c=[]\n",
    "for index, row in test.iterrows():\n",
    "    if row['T_New_Price']==-1:\n",
    "        c.append(data[(data['Company']==row['Company'])&(data['T_New_Price']!=-1)]['T_New_Price'].mean())\n",
    "    else:\n",
    "        c.append(row['T_New_Price'])\n",
    "        \n",
    "test['G_New_Price']=c"
   ]
  },
  {
   "cell_type": "code",
   "execution_count": 231,
   "metadata": {},
   "outputs": [
    {
     "data": {
      "text/plain": [
       "((130, 25), (33, 23))"
      ]
     },
     "execution_count": 231,
     "metadata": {},
     "output_type": "execute_result"
    }
   ],
   "source": [
    "data[data['G_New_Price'].isnull()].shape, test[test['G_New_Price'].isnull()].shape"
   ]
  },
  {
   "cell_type": "code",
   "execution_count": 238,
   "metadata": {},
   "outputs": [
    {
     "data": {
      "text/plain": [
       "Beat Diesel       21\n",
       "Cruze LTZ         18\n",
       "Beat LT           13\n",
       "Beat LS           11\n",
       "Spark 1.0         10\n",
       "Optra Magnum       9\n",
       "Aveo U-VA          7\n",
       "Aveo 1.4           6\n",
       "Sail Hatchback     4\n",
       "Sail 1.2           3\n",
       "Optra 1.6          3\n",
       "Enjoy 1.3          3\n",
       "Enjoy TCDi         3\n",
       "Enjoy Petrol       2\n",
       "Beat Option        1\n",
       "Captiva LTZ        1\n",
       "Tavera LS          1\n",
       "Enjoy 1.4          1\n",
       "Aveo 1.6           1\n",
       "Tavera LT          1\n",
       "Sail LT            1\n",
       "Captiva LT         1\n",
       "Name: Car, dtype: int64"
      ]
     },
     "execution_count": 238,
     "metadata": {},
     "output_type": "execute_result"
    }
   ],
   "source": [
    "data[data.Company=='Chevrolet']['Car'].value_counts()"
   ]
  },
  {
   "cell_type": "code",
   "execution_count": 286,
   "metadata": {},
   "outputs": [
    {
     "data": {
      "text/plain": [
       "(30, 23)"
      ]
     },
     "execution_count": 286,
     "metadata": {},
     "output_type": "execute_result"
    }
   ],
   "source": [
    "test[test['Company']=='Chevrolet'].shape"
   ]
  },
  {
   "cell_type": "code",
   "execution_count": 283,
   "metadata": {},
   "outputs": [],
   "source": [
    "grouped = data[(data['Company']=='Chevrolet')].loc[:,['Price','Car']].groupby('Car').median()"
   ]
  },
  {
   "cell_type": "code",
   "execution_count": 284,
   "metadata": {},
   "outputs": [
    {
     "data": {
      "text/html": [
       "<div>\n",
       "<style scoped>\n",
       "    .dataframe tbody tr th:only-of-type {\n",
       "        vertical-align: middle;\n",
       "    }\n",
       "\n",
       "    .dataframe tbody tr th {\n",
       "        vertical-align: top;\n",
       "    }\n",
       "\n",
       "    .dataframe thead th {\n",
       "        text-align: right;\n",
       "    }\n",
       "</style>\n",
       "<table border=\"1\" class=\"dataframe\">\n",
       "  <thead>\n",
       "    <tr style=\"text-align: right;\">\n",
       "      <th></th>\n",
       "      <th>Price</th>\n",
       "    </tr>\n",
       "    <tr>\n",
       "      <th>Car</th>\n",
       "      <th></th>\n",
       "    </tr>\n",
       "  </thead>\n",
       "  <tbody>\n",
       "    <tr>\n",
       "      <th>Aveo 1.4</th>\n",
       "      <td>1.595</td>\n",
       "    </tr>\n",
       "    <tr>\n",
       "      <th>Aveo 1.6</th>\n",
       "      <td>1.200</td>\n",
       "    </tr>\n",
       "    <tr>\n",
       "      <th>Aveo U-VA</th>\n",
       "      <td>1.150</td>\n",
       "    </tr>\n",
       "    <tr>\n",
       "      <th>Beat Diesel</th>\n",
       "      <td>2.500</td>\n",
       "    </tr>\n",
       "    <tr>\n",
       "      <th>Beat LS</th>\n",
       "      <td>2.210</td>\n",
       "    </tr>\n",
       "    <tr>\n",
       "      <th>Beat LT</th>\n",
       "      <td>2.210</td>\n",
       "    </tr>\n",
       "    <tr>\n",
       "      <th>Beat Option</th>\n",
       "      <td>1.500</td>\n",
       "    </tr>\n",
       "    <tr>\n",
       "      <th>Captiva LT</th>\n",
       "      <td>3.500</td>\n",
       "    </tr>\n",
       "    <tr>\n",
       "      <th>Captiva LTZ</th>\n",
       "      <td>4.000</td>\n",
       "    </tr>\n",
       "    <tr>\n",
       "      <th>Cruze LTZ</th>\n",
       "      <td>6.260</td>\n",
       "    </tr>\n",
       "    <tr>\n",
       "      <th>Enjoy 1.3</th>\n",
       "      <td>4.750</td>\n",
       "    </tr>\n",
       "    <tr>\n",
       "      <th>Enjoy 1.4</th>\n",
       "      <td>3.750</td>\n",
       "    </tr>\n",
       "    <tr>\n",
       "      <th>Enjoy Petrol</th>\n",
       "      <td>3.820</td>\n",
       "    </tr>\n",
       "    <tr>\n",
       "      <th>Enjoy TCDi</th>\n",
       "      <td>3.880</td>\n",
       "    </tr>\n",
       "    <tr>\n",
       "      <th>Optra 1.6</th>\n",
       "      <td>1.500</td>\n",
       "    </tr>\n",
       "    <tr>\n",
       "      <th>Optra Magnum</th>\n",
       "      <td>2.570</td>\n",
       "    </tr>\n",
       "    <tr>\n",
       "      <th>Sail 1.2</th>\n",
       "      <td>3.250</td>\n",
       "    </tr>\n",
       "    <tr>\n",
       "      <th>Sail Hatchback</th>\n",
       "      <td>3.000</td>\n",
       "    </tr>\n",
       "    <tr>\n",
       "      <th>Sail LT</th>\n",
       "      <td>2.480</td>\n",
       "    </tr>\n",
       "    <tr>\n",
       "      <th>Spark 1.0</th>\n",
       "      <td>1.500</td>\n",
       "    </tr>\n",
       "    <tr>\n",
       "      <th>Tavera LS</th>\n",
       "      <td>5.500</td>\n",
       "    </tr>\n",
       "    <tr>\n",
       "      <th>Tavera LT</th>\n",
       "      <td>4.750</td>\n",
       "    </tr>\n",
       "  </tbody>\n",
       "</table>\n",
       "</div>"
      ],
      "text/plain": [
       "                Price\n",
       "Car                  \n",
       "Aveo 1.4        1.595\n",
       "Aveo 1.6        1.200\n",
       "Aveo U-VA       1.150\n",
       "Beat Diesel     2.500\n",
       "Beat LS         2.210\n",
       "Beat LT         2.210\n",
       "Beat Option     1.500\n",
       "Captiva LT      3.500\n",
       "Captiva LTZ     4.000\n",
       "Cruze LTZ       6.260\n",
       "Enjoy 1.3       4.750\n",
       "Enjoy 1.4       3.750\n",
       "Enjoy Petrol    3.820\n",
       "Enjoy TCDi      3.880\n",
       "Optra 1.6       1.500\n",
       "Optra Magnum    2.570\n",
       "Sail 1.2        3.250\n",
       "Sail Hatchback  3.000\n",
       "Sail LT         2.480\n",
       "Spark 1.0       1.500\n",
       "Tavera LS       5.500\n",
       "Tavera LT       4.750"
      ]
     },
     "execution_count": 284,
     "metadata": {},
     "output_type": "execute_result"
    }
   ],
   "source": [
    "grouped"
   ]
  },
  {
   "cell_type": "code",
   "execution_count": 234,
   "metadata": {},
   "outputs": [
    {
     "data": {
      "text/plain": [
       "-1 Lakh    121\n",
       "Name: New_Price, dtype: int64"
      ]
     },
     "execution_count": 234,
     "metadata": {},
     "output_type": "execute_result"
    }
   ],
   "source": [
    "data[data.Company=='Chevrolet']['New_Price'].value_counts()"
   ]
  },
  {
   "cell_type": "code",
   "execution_count": 233,
   "metadata": {},
   "outputs": [
    {
     "data": {
      "text/plain": [
       "145    -1 Lakh\n",
       "179    -1 Lakh\n",
       "183    -1 Lakh\n",
       "231    -1 Lakh\n",
       "240    -1 Lakh\n",
       "Name: New_Price, dtype: object"
      ]
     },
     "execution_count": 233,
     "metadata": {},
     "output_type": "execute_result"
    }
   ],
   "source": [
    "data[data['G_New_Price'].isnull()]['New_Price'].head(5)"
   ]
  },
  {
   "cell_type": "code",
   "execution_count": 513,
   "metadata": {},
   "outputs": [
    {
     "data": {
      "text/plain": [
       "((1234, 26), (6017, 27))"
      ]
     },
     "execution_count": 513,
     "metadata": {},
     "output_type": "execute_result"
    }
   ],
   "source": [
    "test.shape, data.shape"
   ]
  },
  {
   "cell_type": "code",
   "execution_count": 287,
   "metadata": {},
   "outputs": [],
   "source": [
    "data.to_csv('Processed.csv')\n",
    "test.to_csv('Processed_Test.csv')"
   ]
  },
  {
   "cell_type": "code",
   "execution_count": 24,
   "metadata": {},
   "outputs": [],
   "source": [
    "import pandas as pd\n",
    "import matplotlib.pyplot as plt\n",
    "import numpy as np\n",
    "data = pd.read_csv('Processed.csv')\n",
    "test = pd.read_csv('Processed_Test.csv')"
   ]
  },
  {
   "cell_type": "code",
   "execution_count": 19,
   "metadata": {},
   "outputs": [
    {
     "data": {
      "text/plain": [
       "<matplotlib.collections.PathCollection at 0x26b140e2b00>"
      ]
     },
     "execution_count": 19,
     "metadata": {},
     "output_type": "execute_result"
    },
    {
     "data": {
      "image/png": "[encoded data removed]",
      "text/plain": [
       "<Figure size 432x288 with 1 Axes>"
      ]
     },
     "metadata": {},
     "output_type": "display_data"
    }
   ],
   "source": [
    "plt.scatter(data.G_New_Price, data.Log_Price)"
   ]
  },
  {
   "cell_type": "code",
   "execution_count": 22,
   "metadata": {},
   "outputs": [
    {
     "data": {
      "text/plain": [
       "Chevrolet      121\n",
       "Force            3\n",
       "ISUZU            2\n",
       "Bentley          1\n",
       "Smart            1\n",
       "Ambassador       1\n",
       "Lamborghini      1\n",
       "Name: Company, dtype: int64"
      ]
     },
     "execution_count": 22,
     "metadata": {},
     "output_type": "execute_result"
    }
   ],
   "source": [
    "data[data['G_New_Price'].isnull()]['Company'].value_counts()"
   ]
  },
  {
   "cell_type": "code",
   "execution_count": 28,
   "metadata": {},
   "outputs": [],
   "source": [
    "data['G_New_Price']=np.where(data['Car']=='Cruze LTZ',15,data['G_New_Price'])\n",
    "test['G_New_Price']=np.where(test['Car']=='Cruze LTZ',15,test['G_New_Price'])"
   ]
  },
  {
   "cell_type": "code",
   "execution_count": 29,
   "metadata": {},
   "outputs": [],
   "source": [
    "data['G_New_Price']=np.where((data['Company']=='Chevrolet')&(data['Car']!='Cruze LTZ'),8.5,data['G_New_Price'])\n",
    "test['G_New_Price']=np.where((test['Company']=='Chevrolet')&(test['Car']!='Cruze LTZ'),8.5,test['G_New_Price'])"
   ]
  },
  {
   "cell_type": "code",
   "execution_count": 27,
   "metadata": {},
   "outputs": [
    {
     "data": {
      "text/plain": [
       "Force          3\n",
       "ISUZU          2\n",
       "Lamborghini    1\n",
       "Smart          1\n",
       "Bentley        1\n",
       "Ambassador     1\n",
       "Name: Company, dtype: int64"
      ]
     },
     "execution_count": 27,
     "metadata": {},
     "output_type": "execute_result"
    }
   ],
   "source": [
    "data[data['G_New_Price'].isnull()]['Company'].value_counts()"
   ]
  },
  {
   "cell_type": "code",
   "execution_count": 30,
   "metadata": {},
   "outputs": [
    {
     "data": {
      "text/plain": [
       "Hindustan    1\n",
       "OpelCorsa    1\n",
       "ISUZU        1\n",
       "Bentley      1\n",
       "Name: Company, dtype: int64"
      ]
     },
     "execution_count": 30,
     "metadata": {},
     "output_type": "execute_result"
    }
   ],
   "source": [
    "test[test.G_New_Price.isnull()]['Company'].value_counts()"
   ]
  },
  {
   "cell_type": "code",
   "execution_count": 31,
   "metadata": {},
   "outputs": [],
   "source": [
    "data.to_csv('Processed.csv')\n",
    "test.to_csv('Processed_Test.csv')"
   ]
  },
  {
   "cell_type": "code",
   "execution_count": 32,
   "metadata": {},
   "outputs": [
    {
     "data": {
      "text/plain": [
       "((6019, 26), (1234, 24))"
      ]
     },
     "execution_count": 32,
     "metadata": {},
     "output_type": "execute_result"
    }
   ],
   "source": [
    "data.shape, test.shape"
   ]
  },
  {
   "cell_type": "code",
   "execution_count": 33,
   "metadata": {},
   "outputs": [
    {
     "data": {
      "text/plain": [
       "(Index(['Unnamed: 0', 'Unnamed: 0.1', 'Unnamed: 0.1.1', 'Name', 'Location',\n",
       "        'Year', 'Kilometers_Driven', 'Fuel_Type', 'Transmission', 'Owner_Type',\n",
       "        'Mileage', 'Engine', 'Power', 'Seats', 'New_Price', 'Price', 'Company',\n",
       "        'Car', 'Log_Price', 'P_Company', 'P_Car', 'P_Engine', 'P_Power',\n",
       "        'P_New_Price', 'G_New_Price', 'T_New_Price'],\n",
       "       dtype='object'),\n",
       " Index(['Unnamed: 0', 'Unnamed: 0.1', 'Unnamed: 0.1.1', 'Name', 'Location',\n",
       "        'Year', 'Kilometers_Driven', 'Fuel_Type', 'Transmission', 'Owner_Type',\n",
       "        'Mileage', 'Engine', 'Power', 'Seats', 'New_Price', 'Company', 'Car',\n",
       "        'P_Company', 'P_Car', 'P_Engine', 'P_Power', 'P_New_Price',\n",
       "        'G_New_Price', 'T_New_Price'],\n",
       "       dtype='object'))"
      ]
     },
     "execution_count": 33,
     "metadata": {},
     "output_type": "execute_result"
    }
   ],
   "source": [
    "data.columns, test.columns"
   ]
  },
  {
   "cell_type": "code",
   "execution_count": 35,
   "metadata": {},
   "outputs": [],
   "source": [
    "data = pd.read_csv('Processed.csv')\n",
    "test = pd.read_csv('Processed_Test.csv')"
   ]
  },
  {
   "cell_type": "markdown",
   "metadata": {},
   "source": [
    "### Categorical Encoding"
   ]
  },
  {
   "cell_type": "raw",
   "metadata": {},
   "source": [
    "Architecture:\n",
    "\n",
    "MAKE FIVE SECTIONS\n",
    "Take mean of target\n",
    "Take median of target\n",
    "Take mean/total of target\n",
    "\n",
    "Also, normalize the rest"
   ]
  },
  {
   "cell_type": "code",
   "execution_count": 38,
   "metadata": {},
   "outputs": [
    {
     "data": {
      "text/plain": [
       "['Unnamed: 0',\n",
       " 'Unnamed: 0.1',\n",
       " 'Unnamed: 0.1.1',\n",
       " 'Unnamed: 0.1.1.1',\n",
       " 'Name',\n",
       " 'Location',\n",
       " 'Year',\n",
       " 'Kilometers_Driven',\n",
       " 'Fuel_Type',\n",
       " 'Transmission',\n",
       " 'Owner_Type',\n",
       " 'Mileage',\n",
       " 'Engine',\n",
       " 'Power',\n",
       " 'Seats',\n",
       " 'New_Price',\n",
       " 'Price',\n",
       " 'Company',\n",
       " 'Car',\n",
       " 'Log_Price',\n",
       " 'P_Company',\n",
       " 'P_Car',\n",
       " 'P_Engine',\n",
       " 'P_Power',\n",
       " 'P_New_Price',\n",
       " 'G_New_Price',\n",
       " 'T_New_Price']"
      ]
     },
     "execution_count": 38,
     "metadata": {},
     "output_type": "execute_result"
    }
   ],
   "source": [
    "data.columns.tolist()"
   ]
  },
  {
   "cell_type": "code",
   "execution_count": 39,
   "metadata": {},
   "outputs": [],
   "source": [
    "encoder = ce.TargetEncoder(cols=['Location',\n",
    " 'Year','Fuel_Type',\n",
    " 'Transmission',\n",
    " 'Owner_Type','Seats','Company',\n",
    " 'Car'])"
   ]
  },
  {
   "cell_type": "code",
   "execution_count": 40,
   "metadata": {},
   "outputs": [
    {
     "data": {
      "text/plain": [
       "TargetEncoder(cols=['Location', 'Year', 'Fuel_Type', 'Transmission', 'Owner_Type', 'Seats', 'Company', 'Car'],\n",
       "       drop_invariant=False, handle_missing='value',\n",
       "       handle_unknown='value', min_samples_leaf=1, return_df=True,\n",
       "       smoothing=1.0, verbose=0)"
      ]
     },
     "execution_count": 40,
     "metadata": {},
     "output_type": "execute_result"
    }
   ],
   "source": [
    "encoder.fit(data, data['Log_Price'])"
   ]
  },
  {
   "cell_type": "code",
   "execution_count": null,
   "metadata": {},
   "outputs": [],
   "source": [
    "encoder.transform"
   ]
  },
  {
   "cell_type": "code",
   "execution_count": 534,
   "metadata": {},
   "outputs": [],
   "source": [
    "c_grouped = data.groupby('P_Company')"
   ]
  },
  {
   "cell_type": "code",
   "execution_count": 535,
   "metadata": {},
   "outputs": [],
   "source": [
    "import warnings\n",
    "warnings.filterwarnings('ignore')"
   ]
  },
  {
   "cell_type": "code",
   "execution_count": 536,
   "metadata": {},
   "outputs": [],
   "source": [
    "from sklearn.model_selection import KFold\n",
    "kf=KFold(n_splits=5)"
   ]
  },
  {
   "cell_type": "code",
   "execution_count": 537,
   "metadata": {},
   "outputs": [
    {
     "name": "stdout",
     "output_type": "stream",
     "text": [
      "in company\n",
      "in company\n",
      "in company\n",
      "in company\n",
      "in company\n",
      "in company\n",
      "in company\n",
      "in company\n",
      "in company\n",
      "in company\n",
      "in company\n",
      "in company\n",
      "in company\n",
      "in company\n",
      "in company\n"
     ]
    }
   ],
   "source": [
    "c_grouped = data.groupby('P_Company')\n",
    "list_data=[]\n",
    "list_data2=[]\n",
    "\n",
    "for key, item in c_grouped:\n",
    "    print('in company')\n",
    "    kf.get_n_splits(item)\n",
    "    mini_list_data=[]\n",
    "    mini_list_data2=[]\n",
    "    for train_index, test_index in kf.split(item):\n",
    "        item_train, item_test = item.iloc[train_index], item.iloc[test_index]\n",
    "        item_test['P_Company_Mean']=item_train.Price.mean()\n",
    "        item_test['P_Company_Median']=item_train.Price.median()\n",
    "        mini_list_data.append(item_test['P_Company_Mean'])\n",
    "        mini_list_data2.append(item_test['P_Company_Median'])\n",
    "    list2=[]\n",
    "    for df in mini_list_data:\n",
    "        list2.append(df.values)\n",
    "\n",
    "    g = []\n",
    "    for i in list2:\n",
    "        for k in i:\n",
    "            g.append(k)\n",
    "\n",
    "    d = []\n",
    "    for i in g:\n",
    "        if(i==0):\n",
    "            i = imp_avg\n",
    "        if(i == -1):\n",
    "            i = non_imp_avg\n",
    "        d.append(i) \n",
    "        \n",
    "    item['P_Company_Mean'] = d\n",
    "    \n",
    "    list2=[]\n",
    "    for df in mini_list_data2:\n",
    "        list2.append(df.values)\n",
    "\n",
    "    g = []\n",
    "    for i in list2:\n",
    "        for k in i:\n",
    "            g.append(k)\n",
    "\n",
    "    d = []\n",
    "    for i in g:\n",
    "        if(i==0):\n",
    "            i = imp_avg\n",
    "        if(i == -1):\n",
    "            i = non_imp_avg\n",
    "        d.append(i) \n",
    "        \n",
    "    item['P_Company_Median'] = d\n",
    "    \n",
    "    list_data.append(item['P_Company_Mean'])\n",
    "    list_data2.append(item['P_Company_Median'])\n",
    "\n",
    "list1=[]\n",
    "for df in list_data:\n",
    "    list1.append(df.values)\n",
    "\n",
    "g = []\n",
    "for i in list1:\n",
    "    for k in i:\n",
    "        g.append(k)\n",
    "\n",
    "d = []\n",
    "for i in g:\n",
    "    if(i==0):\n",
    "        i = imp_avg\n",
    "    if(i == -1):\n",
    "        i = non_imp_avg\n",
    "    d.append(i) \n",
    "data['P_Company_Mean'] = d\n",
    "\n",
    "list1=[]\n",
    "for df in list_data2:\n",
    "    list1.append(df.values)\n",
    "\n",
    "g = []\n",
    "for i in list1:\n",
    "    for k in i:\n",
    "        g.append(k)\n",
    "\n",
    "d = []\n",
    "for i in g:\n",
    "    d.append(i) \n",
    "data['P_Company_Median'] = d"
   ]
  },
  {
   "cell_type": "code",
   "execution_count": 538,
   "metadata": {},
   "outputs": [
    {
     "name": "stdout",
     "output_type": "stream",
     "text": [
      "in company\n",
      "in company\n",
      "in company\n",
      "in company\n",
      "in company\n",
      "in company\n",
      "in company\n",
      "in company\n",
      "in company\n",
      "in company\n",
      "in company\n",
      "in company\n",
      "in company\n",
      "in company\n",
      "in company\n",
      "in company\n",
      "in company\n",
      "1234 (1234, 27)\n",
      "1234 (1234, 28)\n"
     ]
    }
   ],
   "source": [
    "grouped = test.groupby('P_Company')\n",
    "\n",
    "list_data=[]\n",
    "list_data2=[]\n",
    "\n",
    "for key, item in grouped:\n",
    "    print('in company')\n",
    "    item['P_Company_Mean']=data[data['P_Company']==key]['Price'].mean()\n",
    "    item['P_Company_Median']=data[data['P_Company']==key]['Price'].median()\n",
    "    list_data.append(item['P_Company_Mean'])\n",
    "    list_data2.append(item['P_Company_Median'])\n",
    "\n",
    "list1=[]\n",
    "for df in list_data:\n",
    "    list1.append(df.values)\n",
    "\n",
    "g = []\n",
    "for i in list1:\n",
    "    for k in i:\n",
    "        g.append(k)\n",
    "\n",
    "d = []\n",
    "for i in g:\n",
    "    d.append(i) \n",
    "print(len(d),test.shape)  \n",
    "test['P_Company_Mean'] = d\n",
    "\n",
    "list1=[]\n",
    "for df in list_data2:\n",
    "    list1.append(df.values)\n",
    "\n",
    "g = []\n",
    "for i in list1:\n",
    "    for k in i:\n",
    "        g.append(k)\n",
    "\n",
    "d = []\n",
    "for i in g:\n",
    "    d.append(i) \n",
    "\n",
    "print(len(d),test.shape)\n",
    "test['P_Company_Median'] = d"
   ]
  },
  {
   "cell_type": "code",
   "execution_count": 539,
   "metadata": {},
   "outputs": [
    {
     "data": {
      "text/plain": [
       "(17, 17)"
      ]
     },
     "execution_count": 539,
     "metadata": {},
     "output_type": "execute_result"
    }
   ],
   "source": [
    "len(list_data), len(list_data2)"
   ]
  },
  {
   "cell_type": "code",
   "execution_count": 540,
   "metadata": {},
   "outputs": [
    {
     "name": "stdout",
     "output_type": "stream",
     "text": [
      "in location\n",
      "in location\n",
      "in location\n",
      "in location\n",
      "in location\n",
      "in location\n",
      "in location\n",
      "in location\n",
      "in location\n",
      "in location\n",
      "in location\n"
     ]
    }
   ],
   "source": [
    "c_grouped = data.groupby('Location')\n",
    "list_data=[]\n",
    "list_data2=[]\n",
    "\n",
    "for key, item in c_grouped:\n",
    "    print('in location')\n",
    "    kf.get_n_splits(item)\n",
    "    mini_list_data=[]\n",
    "    mini_list_data2=[]\n",
    "    for train_index, test_index in kf.split(item):\n",
    "        item_train, item_test = item.iloc[train_index], item.iloc[test_index]\n",
    "        item_test['P_Location_Mean']=item_train.Price.mean()\n",
    "        item_test['P_Location_Median']=item_train.Price.median()\n",
    "        mini_list_data.append(item_test['P_Location_Mean'])\n",
    "        mini_list_data2.append(item_test['P_Location_Median'])\n",
    "    list2=[]\n",
    "    for df in mini_list_data:\n",
    "        list2.append(df.values)\n",
    "\n",
    "    g = []\n",
    "    for i in list2:\n",
    "        for k in i:\n",
    "            g.append(k)\n",
    "\n",
    "    d = []\n",
    "    for i in g:\n",
    "        if(i==0):\n",
    "            i = imp_avg\n",
    "        if(i == -1):\n",
    "            i = non_imp_avg\n",
    "        d.append(i) \n",
    "        \n",
    "    item['P_Location_Mean'] = d\n",
    "    \n",
    "    list2=[]\n",
    "    for df in mini_list_data2:\n",
    "        list2.append(df.values)\n",
    "\n",
    "    g = []\n",
    "    for i in list2:\n",
    "        for k in i:\n",
    "            g.append(k)\n",
    "\n",
    "    d = []\n",
    "    for i in g:\n",
    "        if(i==0):\n",
    "            i = imp_avg\n",
    "        if(i == -1):\n",
    "            i = non_imp_avg\n",
    "        d.append(i) \n",
    "        \n",
    "    item['P_Location_Median'] = d\n",
    "    \n",
    "    #print(len(d))\n",
    "    #print(len(item))\n",
    "    list_data.append(item['P_Location_Mean'])\n",
    "    list_data2.append(item['P_Location_Median'])\n",
    "\n",
    "list1=[]\n",
    "for df in list_data:\n",
    "    list1.append(df.values)\n",
    "\n",
    "g = []\n",
    "for i in list1:\n",
    "    for k in i:\n",
    "        g.append(k)\n",
    "\n",
    "d = []\n",
    "for i in g:\n",
    "    if(i==0):\n",
    "        i = imp_avg\n",
    "    if(i == -1):\n",
    "        i = non_imp_avg\n",
    "    d.append(i) \n",
    "data['P_Location_Mean'] = d\n",
    "\n",
    "list1=[]\n",
    "for df in list_data2:\n",
    "    list1.append(df.values)\n",
    "\n",
    "g = []\n",
    "for i in list1:\n",
    "    for k in i:\n",
    "        g.append(k)\n",
    "\n",
    "d = []\n",
    "for i in g:\n",
    "    if(i==0):\n",
    "        i = imp_avg\n",
    "    if(i == -1):\n",
    "        i = non_imp_avg\n",
    "    d.append(i) \n",
    "data['P_Location_Median'] = d"
   ]
  },
  {
   "cell_type": "code",
   "execution_count": 541,
   "metadata": {},
   "outputs": [
    {
     "name": "stdout",
     "output_type": "stream",
     "text": [
      "in company\n",
      "in company\n",
      "in company\n",
      "in company\n",
      "in company\n",
      "in company\n",
      "in company\n",
      "in company\n",
      "in company\n",
      "in company\n",
      "in company\n",
      "1234 (1234, 29)\n",
      "1234 (1234, 30)\n"
     ]
    }
   ],
   "source": [
    "grouped = test.groupby('Location')\n",
    "\n",
    "list_data=[]\n",
    "list_data2=[]\n",
    "\n",
    "for key, item in grouped:\n",
    "    print('in company')\n",
    "    item['Location_Mean']=data[data['Location']==key]['Price'].mean()\n",
    "    item['Location_Median']=data[data['Location']==key]['Price'].median()\n",
    "    list_data.append(item['Location_Mean'])\n",
    "    list_data2.append(item['Location_Median'])\n",
    "\n",
    "list1=[]\n",
    "for df in list_data:\n",
    "    list1.append(df.values)\n",
    "\n",
    "g = []\n",
    "for i in list1:\n",
    "    for k in i:\n",
    "        g.append(k)\n",
    "\n",
    "d = []\n",
    "for i in g:\n",
    "    d.append(i) \n",
    "print(len(d),test.shape)  \n",
    "test['Location_Mean'] = d\n",
    "\n",
    "list1=[]\n",
    "for df in list_data2:\n",
    "    list1.append(df.values)\n",
    "\n",
    "g = []\n",
    "for i in list1:\n",
    "    for k in i:\n",
    "        g.append(k)\n",
    "\n",
    "d = []\n",
    "for i in g:\n",
    "    d.append(i) \n",
    "\n",
    "print(len(d),test.shape)\n",
    "test['Location_Median'] = d"
   ]
  },
  {
   "cell_type": "code",
   "execution_count": 542,
   "metadata": {},
   "outputs": [
    {
     "name": "stdout",
     "output_type": "stream",
     "text": [
      "in year\n",
      "in year\n",
      "in year\n",
      "in year\n",
      "in year\n",
      "in year\n",
      "in year\n",
      "in year\n",
      "in year\n",
      "in year\n",
      "in year\n",
      "in year\n",
      "in year\n",
      "in year\n",
      "in year\n",
      "in year\n",
      "in year\n",
      "in year\n",
      "in year\n"
     ]
    }
   ],
   "source": [
    "c_grouped = data.groupby('P_Year')\n",
    "list_data=[]\n",
    "list_data2=[]\n",
    "\n",
    "for key, item in c_grouped:\n",
    "    print('in year')\n",
    "    kf.get_n_splits(item)\n",
    "    mini_list_data=[]\n",
    "    mini_list_data2=[]\n",
    "    for train_index, test_index in kf.split(item):\n",
    "        item_train, item_test = item.iloc[train_index], item.iloc[test_index]\n",
    "        item_test['P_Year_Mean']=item_train.Price.mean()\n",
    "        item_test['P_Year_Median']=item_train.Price.median()\n",
    "        mini_list_data.append(item_test['P_Year_Mean'])\n",
    "        mini_list_data2.append(item_test['P_Year_Median'])\n",
    "    list2=[]\n",
    "    for df in mini_list_data:\n",
    "        list2.append(df.values)\n",
    "\n",
    "    g = []\n",
    "    for i in list2:\n",
    "        for k in i:\n",
    "            g.append(k)\n",
    "\n",
    "    d = []\n",
    "    for i in g:\n",
    "        if(i==0):\n",
    "            i = imp_avg\n",
    "        if(i == -1):\n",
    "            i = non_imp_avg\n",
    "        d.append(i) \n",
    "        \n",
    "    item['P_Year_Mean'] = d\n",
    "    \n",
    "    list2=[]\n",
    "    for df in mini_list_data2:\n",
    "        list2.append(df.values)\n",
    "\n",
    "    g = []\n",
    "    for i in list2:\n",
    "        for k in i:\n",
    "            g.append(k)\n",
    "\n",
    "    d = []\n",
    "    for i in g:\n",
    "        if(i==0):\n",
    "            i = imp_avg\n",
    "        if(i == -1):\n",
    "            i = non_imp_avg\n",
    "        d.append(i) \n",
    "        \n",
    "    item['P_Year_Median'] = d\n",
    "    \n",
    "    #print(len(d))\n",
    "    #print(len(item))\n",
    "    list_data.append(item['P_Year_Mean'])\n",
    "    list_data2.append(item['P_Year_Median'])\n",
    "\n",
    "list1=[]\n",
    "for df in list_data:\n",
    "    list1.append(df.values)\n",
    "\n",
    "g = []\n",
    "for i in list1:\n",
    "    for k in i:\n",
    "        g.append(k)\n",
    "\n",
    "d = []\n",
    "for i in g:\n",
    "    if(i==0):\n",
    "        i = imp_avg\n",
    "    if(i == -1):\n",
    "        i = non_imp_avg\n",
    "    d.append(i) \n",
    "data['P_Year_Mean'] = d\n",
    "\n",
    "list1=[]\n",
    "for df in list_data2:\n",
    "    list1.append(df.values)\n",
    "\n",
    "g = []\n",
    "for i in list1:\n",
    "    for k in i:\n",
    "        g.append(k)\n",
    "\n",
    "d = []\n",
    "for i in g:\n",
    "    if(i==0):\n",
    "        i = imp_avg\n",
    "    if(i == -1):\n",
    "        i = non_imp_avg\n",
    "    d.append(i) \n",
    "data['P_Year_Median'] = d"
   ]
  },
  {
   "cell_type": "code",
   "execution_count": 543,
   "metadata": {},
   "outputs": [
    {
     "name": "stdout",
     "output_type": "stream",
     "text": [
      "in company\n",
      "in company\n",
      "in company\n",
      "in company\n",
      "in company\n",
      "in company\n",
      "in company\n",
      "in company\n",
      "in company\n",
      "in company\n",
      "in company\n",
      "in company\n",
      "in company\n",
      "in company\n",
      "in company\n",
      "in company\n",
      "in company\n",
      "in company\n",
      "in company\n",
      "1234 (1234, 31)\n",
      "1234 (1234, 32)\n"
     ]
    }
   ],
   "source": [
    "grouped = test.groupby('P_Year')\n",
    "\n",
    "list_data=[]\n",
    "list_data2=[]\n",
    "\n",
    "for key, item in grouped:\n",
    "    print('in company')\n",
    "    item['P_Year_Mean']=data[data['P_Year']==key]['Price'].mean()\n",
    "    item['P_Year_Median']=data[data['P_Year']==key]['Price'].median()\n",
    "    list_data.append(item['P_Year_Mean'])\n",
    "    list_data2.append(item['P_Year_Median'])\n",
    "\n",
    "list1=[]\n",
    "for df in list_data:\n",
    "    list1.append(df.values)\n",
    "\n",
    "g = []\n",
    "for i in list1:\n",
    "    for k in i:\n",
    "        g.append(k)\n",
    "\n",
    "d = []\n",
    "for i in g:\n",
    "    d.append(i) \n",
    "print(len(d),test.shape)  \n",
    "test['P_Year_Mean'] = d\n",
    "\n",
    "list1=[]\n",
    "for df in list_data2:\n",
    "    list1.append(df.values)\n",
    "\n",
    "g = []\n",
    "for i in list1:\n",
    "    for k in i:\n",
    "        g.append(k)\n",
    "\n",
    "d = []\n",
    "for i in g:\n",
    "    d.append(i) \n",
    "\n",
    "print(len(d),test.shape)\n",
    "test['P_Year_Median'] = d"
   ]
  },
  {
   "cell_type": "code",
   "execution_count": 544,
   "metadata": {},
   "outputs": [
    {
     "data": {
      "text/plain": [
       "(Index(['Unnamed: 0', 'Name', 'Location', 'Year', 'Kilometers_Driven',\n",
       "        'Fuel_Type', 'Transmission', 'Owner_Type', 'Mileage', 'Engine', 'Power',\n",
       "        'Seats', 'New_Price', 'Price', 'Company', 'P_Company', 'P_Year',\n",
       "        'P_Mileage', 'P_Engine', 'P1_Engine', 'P2_Engine', 'P_Power',\n",
       "        'P1_Power', 'P2_Power', 'P3_Power', 'P_Seats', 'G_New_Price',\n",
       "        'G_New_Price1', 'P_Company_Mean', 'P_Company_Median', 'P_Location_Mean',\n",
       "        'P_Location_Median', 'P_Year_Mean', 'P_Year_Median'],\n",
       "       dtype='object'),\n",
       " Index(['Unnamed: 0', 'Name', 'Location', 'Year', 'Kilometers_Driven',\n",
       "        'Fuel_Type', 'Transmission', 'Owner_Type', 'Mileage', 'Engine', 'Power',\n",
       "        'Seats', 'New_Price', 'Company', 'P_Company', 'P_Year', 'P_Mileage',\n",
       "        'P_Engine', 'P1_Engine', 'P2_Engine', 'P_Power', 'P1_Power', 'P2_Power',\n",
       "        'P3_Power', 'P_Seats', 'G_New_Price', 'G_New_Price1', 'P_Company_Mean',\n",
       "        'P_Company_Median', 'Location_Mean', 'Location_Median', 'P_Year_Mean',\n",
       "        'P_Year_Median'],\n",
       "       dtype='object'))"
      ]
     },
     "execution_count": 544,
     "metadata": {},
     "output_type": "execute_result"
    }
   ],
   "source": [
    "data.columns, test.columns"
   ]
  },
  {
   "cell_type": "code",
   "execution_count": 545,
   "metadata": {},
   "outputs": [],
   "source": [
    "data.to_csv('Features.csv')\n",
    "test.to_csv('Features_Test.csv')"
   ]
  },
  {
   "cell_type": "code",
   "execution_count": 546,
   "metadata": {},
   "outputs": [],
   "source": [
    "data['Now']=2019.5\n",
    "test['Now']=2019.5"
   ]
  },
  {
   "cell_type": "code",
   "execution_count": 547,
   "metadata": {},
   "outputs": [],
   "source": [
    "data['Kmpm']=data['Kilometers_Driven']/((data['Now']-data['Year'])*12)\n",
    "test['Kmpm']=test['Kilometers_Driven']/((test['Now']-test['Year'])*12)"
   ]
  },
  {
   "cell_type": "code",
   "execution_count": 548,
   "metadata": {},
   "outputs": [
    {
     "data": {
      "text/plain": [
       "(Index(['Unnamed: 0', 'Name', 'Location', 'Year', 'Kilometers_Driven',\n",
       "        'Fuel_Type', 'Transmission', 'Owner_Type', 'Mileage', 'Engine', 'Power',\n",
       "        'Seats', 'New_Price', 'Price', 'Company', 'P_Company', 'P_Year',\n",
       "        'P_Mileage', 'P_Engine', 'P1_Engine', 'P2_Engine', 'P_Power',\n",
       "        'P1_Power', 'P2_Power', 'P3_Power', 'P_Seats', 'G_New_Price',\n",
       "        'G_New_Price1', 'P_Company_Mean', 'P_Company_Median', 'P_Location_Mean',\n",
       "        'P_Location_Median', 'P_Year_Mean', 'P_Year_Median', 'Now', 'Kmpm'],\n",
       "       dtype='object'),\n",
       " Index(['Unnamed: 0', 'Name', 'Location', 'Year', 'Kilometers_Driven',\n",
       "        'Fuel_Type', 'Transmission', 'Owner_Type', 'Mileage', 'Engine', 'Power',\n",
       "        'Seats', 'New_Price', 'Company', 'P_Company', 'P_Year', 'P_Mileage',\n",
       "        'P_Engine', 'P1_Engine', 'P2_Engine', 'P_Power', 'P1_Power', 'P2_Power',\n",
       "        'P3_Power', 'P_Seats', 'G_New_Price', 'G_New_Price1', 'P_Company_Mean',\n",
       "        'P_Company_Median', 'Location_Mean', 'Location_Median', 'P_Year_Mean',\n",
       "        'P_Year_Median', 'Now', 'Kmpm'],\n",
       "       dtype='object'))"
      ]
     },
     "execution_count": 548,
     "metadata": {},
     "output_type": "execute_result"
    }
   ],
   "source": [
    "data.columns, test.columns"
   ]
  },
  {
   "cell_type": "code",
   "execution_count": 549,
   "metadata": {},
   "outputs": [],
   "source": [
    "data.to_csv('Features.csv')\n",
    "test.to_csv('Features_test.csv')"
   ]
  },
  {
   "cell_type": "code",
   "execution_count": 550,
   "metadata": {},
   "outputs": [
    {
     "data": {
      "text/plain": [
       "((6017, 36), (1234, 35))"
      ]
     },
     "execution_count": 550,
     "metadata": {},
     "output_type": "execute_result"
    }
   ],
   "source": [
    "data.shape, test.shape"
   ]
  },
  {
   "cell_type": "code",
   "execution_count": 551,
   "metadata": {},
   "outputs": [
    {
     "data": {
      "text/plain": [
       "Manual       4299\n",
       "Automatic    1718\n",
       "Name: Transmission, dtype: int64"
      ]
     },
     "execution_count": 551,
     "metadata": {},
     "output_type": "execute_result"
    }
   ],
   "source": [
    "data.Transmission.value_counts()"
   ]
  },
  {
   "cell_type": "code",
   "execution_count": 552,
   "metadata": {},
   "outputs": [
    {
     "name": "stdout",
     "output_type": "stream",
     "text": [
      "in trans\n",
      "in trans\n"
     ]
    }
   ],
   "source": [
    "c_grouped = data.groupby('Transmission')\n",
    "list_data=[]\n",
    "list_data2=[]\n",
    "\n",
    "for key, item in c_grouped:\n",
    "    print('in trans')\n",
    "    kf.get_n_splits(item)\n",
    "    mini_list_data=[]\n",
    "    mini_list_data2=[]\n",
    "    for train_index, test_index in kf.split(item):\n",
    "        item_train, item_test = item.iloc[train_index], item.iloc[test_index]\n",
    "        item_test['P_Transmission_Mean']=item_train.Price.mean()\n",
    "        item_test['P_Transmission_Median']=item_train.Price.median()\n",
    "        mini_list_data.append(item_test['P_Transmission_Mean'])\n",
    "        mini_list_data2.append(item_test['P_Transmission_Median'])\n",
    "    list2=[]\n",
    "    for df in mini_list_data:\n",
    "        list2.append(df.values)\n",
    "\n",
    "    g = []\n",
    "    for i in list2:\n",
    "        for k in i:\n",
    "            g.append(k)\n",
    "\n",
    "    d = []\n",
    "    for i in g:\n",
    "        if(i==0):\n",
    "            i = imp_avg\n",
    "        if(i == -1):\n",
    "            i = non_imp_avg\n",
    "        d.append(i) \n",
    "        \n",
    "    item['P_Transmission_Mean'] = d\n",
    "    \n",
    "    list2=[]\n",
    "    for df in mini_list_data2:\n",
    "        list2.append(df.values)\n",
    "\n",
    "    g = []\n",
    "    for i in list2:\n",
    "        for k in i:\n",
    "            g.append(k)\n",
    "\n",
    "    d = []\n",
    "    for i in g:\n",
    "        if(i==0):\n",
    "            i = imp_avg\n",
    "        if(i == -1):\n",
    "            i = non_imp_avg\n",
    "        d.append(i) \n",
    "        \n",
    "    item['P_Transmission_Median'] = d\n",
    "    \n",
    "    #print(len(d))\n",
    "    #print(len(item))\n",
    "    list_data.append(item['P_Transmission_Mean'])\n",
    "    list_data2.append(item['P_Transmission_Median'])\n",
    "\n",
    "list1=[]\n",
    "for df in list_data:\n",
    "    list1.append(df.values)\n",
    "\n",
    "g = []\n",
    "for i in list1:\n",
    "    for k in i:\n",
    "        g.append(k)\n",
    "\n",
    "d = []\n",
    "for i in g:\n",
    "    if(i==0):\n",
    "        i = imp_avg\n",
    "    if(i == -1):\n",
    "        i = non_imp_avg\n",
    "    d.append(i) \n",
    "data['P_Transmission_Mean'] = d\n",
    "\n",
    "list1=[]\n",
    "for df in list_data2:\n",
    "    list1.append(df.values)\n",
    "\n",
    "g = []\n",
    "for i in list1:\n",
    "    for k in i:\n",
    "        g.append(k)\n",
    "\n",
    "d = []\n",
    "for i in g:\n",
    "    if(i==0):\n",
    "        i = imp_avg\n",
    "    if(i == -1):\n",
    "        i = non_imp_avg\n",
    "    d.append(i) \n",
    "data['P_Transmission_Median'] = d"
   ]
  },
  {
   "cell_type": "code",
   "execution_count": 553,
   "metadata": {},
   "outputs": [
    {
     "name": "stdout",
     "output_type": "stream",
     "text": [
      "in company\n",
      "in company\n",
      "1234 (1234, 35)\n",
      "1234 (1234, 36)\n"
     ]
    }
   ],
   "source": [
    "grouped = test.groupby('Transmission')\n",
    "\n",
    "list_data=[]\n",
    "list_data2=[]\n",
    "\n",
    "for key, item in grouped:\n",
    "    print('in company')\n",
    "    item['P_Transmission_Mean']=data[data['Transmission']==key]['Price'].mean()\n",
    "    item['P_Transmission_Median']=data[data['Transmission']==key]['Price'].median()\n",
    "    list_data.append(item['P_Transmission_Mean'])\n",
    "    list_data2.append(item['P_Transmission_Median'])\n",
    "\n",
    "list1=[]\n",
    "for df in list_data:\n",
    "    list1.append(df.values)\n",
    "\n",
    "g = []\n",
    "for i in list1:\n",
    "    for k in i:\n",
    "        g.append(k)\n",
    "\n",
    "d = []\n",
    "for i in g:\n",
    "    d.append(i) \n",
    "print(len(d),test.shape)  \n",
    "test['P_Transmission_Mean'] = d\n",
    "\n",
    "list1=[]\n",
    "for df in list_data2:\n",
    "    list1.append(df.values)\n",
    "\n",
    "g = []\n",
    "for i in list1:\n",
    "    for k in i:\n",
    "        g.append(k)\n",
    "\n",
    "d = []\n",
    "for i in g:\n",
    "    d.append(i) \n",
    "\n",
    "print(len(d),test.shape)\n",
    "test['P_Transmission_Median'] = d"
   ]
  },
  {
   "cell_type": "code",
   "execution_count": 554,
   "metadata": {},
   "outputs": [
    {
     "name": "stdout",
     "output_type": "stream",
     "text": [
      "in trans\n",
      "in trans\n",
      "in trans\n",
      "in trans\n"
     ]
    }
   ],
   "source": [
    "c_grouped = data.groupby('Fuel_Type')\n",
    "list_data=[]\n",
    "list_data2=[]\n",
    "\n",
    "for key, item in c_grouped:\n",
    "    print('in trans')\n",
    "    kf.get_n_splits(item)\n",
    "    mini_list_data=[]\n",
    "    mini_list_data2=[]\n",
    "    for train_index, test_index in kf.split(item):\n",
    "        item_train, item_test = item.iloc[train_index], item.iloc[test_index]\n",
    "        item_test['P_Fuel_Mean']=item_train.Price.mean()\n",
    "        item_test['P_Fuel_Median']=item_train.Price.median()\n",
    "        mini_list_data.append(item_test['P_Fuel_Mean'])\n",
    "        mini_list_data2.append(item_test['P_Fuel_Median'])\n",
    "    list2=[]\n",
    "    for df in mini_list_data:\n",
    "        list2.append(df.values)\n",
    "\n",
    "    g = []\n",
    "    for i in list2:\n",
    "        for k in i:\n",
    "            g.append(k)\n",
    "\n",
    "    d = []\n",
    "    for i in g:\n",
    "        if(i==0):\n",
    "            i = imp_avg\n",
    "        if(i == -1):\n",
    "            i = non_imp_avg\n",
    "        d.append(i) \n",
    "        \n",
    "    item['P_Fuel_Mean'] = d\n",
    "    \n",
    "    list2=[]\n",
    "    for df in mini_list_data2:\n",
    "        list2.append(df.values)\n",
    "\n",
    "    g = []\n",
    "    for i in list2:\n",
    "        for k in i:\n",
    "            g.append(k)\n",
    "\n",
    "    d = []\n",
    "    for i in g:\n",
    "        if(i==0):\n",
    "            i = imp_avg\n",
    "        if(i == -1):\n",
    "            i = non_imp_avg\n",
    "        d.append(i) \n",
    "        \n",
    "    item['P_Fuel_Median'] = d\n",
    "    \n",
    "    #print(len(d))\n",
    "    #print(len(item))\n",
    "    list_data.append(item['P_Fuel_Mean'])\n",
    "    list_data2.append(item['P_Fuel_Median'])\n",
    "\n",
    "list1=[]\n",
    "for df in list_data:\n",
    "    list1.append(df.values)\n",
    "\n",
    "g = []\n",
    "for i in list1:\n",
    "    for k in i:\n",
    "        g.append(k)\n",
    "\n",
    "d = []\n",
    "for i in g:\n",
    "    if(i==0):\n",
    "        i = imp_avg\n",
    "    if(i == -1):\n",
    "        i = non_imp_avg\n",
    "    d.append(i) \n",
    "data['P_Fuel_Mean'] = d\n",
    "\n",
    "list1=[]\n",
    "for df in list_data2:\n",
    "    list1.append(df.values)\n",
    "\n",
    "g = []\n",
    "for i in list1:\n",
    "    for k in i:\n",
    "        g.append(k)\n",
    "\n",
    "d = []\n",
    "for i in g:\n",
    "    if(i==0):\n",
    "        i = imp_avg\n",
    "    if(i == -1):\n",
    "        i = non_imp_avg\n",
    "    d.append(i) \n",
    "data['P_Fuel_Median'] = d"
   ]
  },
  {
   "cell_type": "code",
   "execution_count": 555,
   "metadata": {},
   "outputs": [
    {
     "name": "stdout",
     "output_type": "stream",
     "text": [
      "in company\n",
      "in company\n",
      "in company\n",
      "in company\n",
      "1234 (1234, 37)\n",
      "1234 (1234, 38)\n"
     ]
    }
   ],
   "source": [
    "grouped = test.groupby('Fuel_Type')\n",
    "\n",
    "list_data=[]\n",
    "list_data2=[]\n",
    "\n",
    "for key, item in grouped:\n",
    "    print('in company')\n",
    "    item['P_Fuel_Mean']=data[data['Fuel_Type']==key]['Price'].mean()\n",
    "    item['P_Fuel_Median']=data[data['Fuel_Type']==key]['Price'].median()\n",
    "    list_data.append(item['P_Fuel_Mean'])\n",
    "    list_data2.append(item['P_Fuel_Median'])\n",
    "\n",
    "list1=[]\n",
    "for df in list_data:\n",
    "    list1.append(df.values)\n",
    "\n",
    "g = []\n",
    "for i in list1:\n",
    "    for k in i:\n",
    "        g.append(k)\n",
    "\n",
    "d = []\n",
    "for i in g:\n",
    "    d.append(i) \n",
    "print(len(d),test.shape)  \n",
    "test['P_Fuel_Mean'] = d\n",
    "\n",
    "list1=[]\n",
    "for df in list_data2:\n",
    "    list1.append(df.values)\n",
    "\n",
    "g = []\n",
    "for i in list1:\n",
    "    for k in i:\n",
    "        g.append(k)\n",
    "\n",
    "d = []\n",
    "for i in g:\n",
    "    d.append(i) \n",
    "\n",
    "print(len(d),test.shape)\n",
    "test['P_Fuel_Median'] = d"
   ]
  },
  {
   "cell_type": "code",
   "execution_count": 556,
   "metadata": {},
   "outputs": [
    {
     "name": "stdout",
     "output_type": "stream",
     "text": [
      "in trans\n",
      "in trans\n",
      "in trans\n",
      "in trans\n"
     ]
    }
   ],
   "source": [
    "c_grouped = data.groupby('Owner_Type')\n",
    "list_data=[]\n",
    "list_data2=[]\n",
    "\n",
    "for key, item in c_grouped:\n",
    "    print('in trans')\n",
    "    kf.get_n_splits(item)\n",
    "    mini_list_data=[]\n",
    "    mini_list_data2=[]\n",
    "    for train_index, test_index in kf.split(item):\n",
    "        item_train, item_test = item.iloc[train_index], item.iloc[test_index]\n",
    "        item_test['P_Owner_Mean']=item_train.Price.mean()\n",
    "        item_test['P_Owner_Median']=item_train.Price.median()\n",
    "        mini_list_data.append(item_test['P_Owner_Mean'])\n",
    "        mini_list_data2.append(item_test['P_Owner_Median'])\n",
    "    list2=[]\n",
    "    for df in mini_list_data:\n",
    "        list2.append(df.values)\n",
    "\n",
    "    g = []\n",
    "    for i in list2:\n",
    "        for k in i:\n",
    "            g.append(k)\n",
    "\n",
    "    d = []\n",
    "    for i in g:\n",
    "        if(i==0):\n",
    "            i = imp_avg\n",
    "        if(i == -1):\n",
    "            i = non_imp_avg\n",
    "        d.append(i) \n",
    "        \n",
    "    item['P_Owner_Mean'] = d\n",
    "    \n",
    "    list2=[]\n",
    "    for df in mini_list_data2:\n",
    "        list2.append(df.values)\n",
    "\n",
    "    g = []\n",
    "    for i in list2:\n",
    "        for k in i:\n",
    "            g.append(k)\n",
    "\n",
    "    d = []\n",
    "    for i in g:\n",
    "        if(i==0):\n",
    "            i = imp_avg\n",
    "        if(i == -1):\n",
    "            i = non_imp_avg\n",
    "        d.append(i) \n",
    "        \n",
    "    item['P_Owner_Median'] = d\n",
    "    \n",
    "    #print(len(d))\n",
    "    #print(len(item))\n",
    "    list_data.append(item['P_Owner_Mean'])\n",
    "    list_data2.append(item['P_Owner_Median'])\n",
    "\n",
    "list1=[]\n",
    "for df in list_data:\n",
    "    list1.append(df.values)\n",
    "\n",
    "g = []\n",
    "for i in list1:\n",
    "    for k in i:\n",
    "        g.append(k)\n",
    "\n",
    "d = []\n",
    "for i in g:\n",
    "    if(i==0):\n",
    "        i = imp_avg\n",
    "    if(i == -1):\n",
    "        i = non_imp_avg\n",
    "    d.append(i) \n",
    "data['P_Owner_Mean'] = d\n",
    "\n",
    "list1=[]\n",
    "for df in list_data2:\n",
    "    list1.append(df.values)\n",
    "\n",
    "g = []\n",
    "for i in list1:\n",
    "    for k in i:\n",
    "        g.append(k)\n",
    "\n",
    "d = []\n",
    "for i in g:\n",
    "    if(i==0):\n",
    "        i = imp_avg\n",
    "    if(i == -1):\n",
    "        i = non_imp_avg\n",
    "    d.append(i) \n",
    "data['P_Owner_Median'] = d"
   ]
  },
  {
   "cell_type": "code",
   "execution_count": 557,
   "metadata": {},
   "outputs": [
    {
     "name": "stdout",
     "output_type": "stream",
     "text": [
      "in company\n",
      "in company\n",
      "in company\n",
      "in company\n",
      "1234 (1234, 39)\n",
      "1234 (1234, 40)\n"
     ]
    }
   ],
   "source": [
    "grouped = test.groupby('Owner_Type')\n",
    "\n",
    "list_data=[]\n",
    "list_data2=[]\n",
    "\n",
    "for key, item in grouped:\n",
    "    print('in company')\n",
    "    item['P_Owner_Mean']=data[data['Owner_Type']==key]['Price'].mean()\n",
    "    item['P_Owner_Median']=data[data['Owner_Type']==key]['Price'].median()\n",
    "    list_data.append(item['P_Owner_Mean'])\n",
    "    list_data2.append(item['P_Owner_Median'])\n",
    "\n",
    "list1=[]\n",
    "for df in list_data:\n",
    "    list1.append(df.values)\n",
    "\n",
    "g = []\n",
    "for i in list1:\n",
    "    for k in i:\n",
    "        g.append(k)\n",
    "\n",
    "d = []\n",
    "for i in g:\n",
    "    d.append(i) \n",
    "print(len(d),test.shape)  \n",
    "test['P_Owner_Mean'] = d\n",
    "\n",
    "list1=[]\n",
    "for df in list_data2:\n",
    "    list1.append(df.values)\n",
    "\n",
    "g = []\n",
    "for i in list1:\n",
    "    for k in i:\n",
    "        g.append(k)\n",
    "\n",
    "d = []\n",
    "for i in g:\n",
    "    d.append(i) \n",
    "\n",
    "print(len(d),test.shape)\n",
    "test['P_Owner_Median'] = d"
   ]
  },
  {
   "cell_type": "code",
   "execution_count": 558,
   "metadata": {},
   "outputs": [
    {
     "data": {
      "text/plain": [
       "5.332703     905\n",
       "19.852084    329\n",
       "Name: P_Transmission_Mean, dtype: int64"
      ]
     },
     "execution_count": 558,
     "metadata": {},
     "output_type": "execute_result"
    }
   ],
   "source": [
    "test.P_Transmission_Mean.value_counts()"
   ]
  },
  {
   "cell_type": "code",
   "execution_count": 559,
   "metadata": {},
   "outputs": [
    {
     "data": {
      "text/plain": [
       "Manual       905\n",
       "Automatic    329\n",
       "Name: Transmission, dtype: int64"
      ]
     },
     "execution_count": 559,
     "metadata": {},
     "output_type": "execute_result"
    }
   ],
   "source": [
    "test.Transmission.value_counts()"
   ]
  },
  {
   "cell_type": "code",
   "execution_count": 560,
   "metadata": {},
   "outputs": [
    {
     "data": {
      "text/plain": [
       "24"
      ]
     },
     "execution_count": 560,
     "metadata": {},
     "output_type": "execute_result"
    }
   ],
   "source": [
    "len(item)"
   ]
  },
  {
   "cell_type": "code",
   "execution_count": 561,
   "metadata": {},
   "outputs": [
    {
     "data": {
      "text/plain": [
       "5.0     5012\n",
       "7.0      674\n",
       "8.0      134\n",
       "4.0       99\n",
       "0.0       43\n",
       "6.0       31\n",
       "2.0       16\n",
       "10.0       5\n",
       "9.0        3\n",
       "Name: Seats, dtype: int64"
      ]
     },
     "execution_count": 561,
     "metadata": {},
     "output_type": "execute_result"
    }
   ],
   "source": [
    "data.Seats.value_counts()"
   ]
  },
  {
   "cell_type": "code",
   "execution_count": 562,
   "metadata": {},
   "outputs": [
    {
     "name": "stdout",
     "output_type": "stream",
     "text": [
      "in trans\n",
      "43\n",
      "in trans\n",
      "16\n",
      "in trans\n",
      "99\n",
      "in trans\n",
      "5012\n",
      "in trans\n",
      "31\n",
      "in trans\n",
      "674\n",
      "in trans\n",
      "134\n",
      "in trans\n",
      "3\n",
      "in trans\n",
      "5\n"
     ]
    }
   ],
   "source": [
    "c_grouped = data.groupby('Seats')\n",
    "list_data=[]\n",
    "list_data2=[]\n",
    "\n",
    "kf=KFold(n_splits=3)\n",
    "\n",
    "for key, item in c_grouped:\n",
    "    print('in trans')\n",
    "    print(len(item))\n",
    "    kf.get_n_splits(item)\n",
    "    mini_list_data=[]\n",
    "    mini_list_data2=[]\n",
    "    for train_index, test_index in kf.split(item):\n",
    "        item_train, item_test = item.iloc[train_index], item.iloc[test_index]\n",
    "        item_test['P_Seats_Mean']=item_train.Price.mean()\n",
    "        item_test['P_Seats_Median']=item_train.Price.median()\n",
    "        mini_list_data.append(item_test['P_Seats_Mean'])\n",
    "        mini_list_data2.append(item_test['P_Seats_Median'])\n",
    "    list2=[]\n",
    "    for df in mini_list_data:\n",
    "        list2.append(df.values)\n",
    "\n",
    "    g = []\n",
    "    for i in list2:\n",
    "        for k in i:\n",
    "            g.append(k)\n",
    "\n",
    "    d = []\n",
    "    for i in g:\n",
    "        if(i==0):\n",
    "            i = imp_avg\n",
    "        if(i == -1):\n",
    "            i = non_imp_avg\n",
    "        d.append(i) \n",
    "        \n",
    "    item['P_Seats_Mean'] = d\n",
    "    \n",
    "    list2=[]\n",
    "    for df in mini_list_data2:\n",
    "        list2.append(df.values)\n",
    "\n",
    "    g = []\n",
    "    for i in list2:\n",
    "        for k in i:\n",
    "            g.append(k)\n",
    "\n",
    "    d = []\n",
    "    for i in g:\n",
    "        if(i==0):\n",
    "            i = imp_avg\n",
    "        if(i == -1):\n",
    "            i = non_imp_avg\n",
    "        d.append(i) \n",
    "        \n",
    "    item['P_Seats_Median'] = d\n",
    "    \n",
    "    #print(len(d))\n",
    "    #print(len(item))\n",
    "    list_data.append(item['P_Seats_Mean'])\n",
    "    list_data2.append(item['P_Seats_Median'])\n",
    "\n",
    "list1=[]\n",
    "for df in list_data:\n",
    "    list1.append(df.values)\n",
    "\n",
    "g = []\n",
    "for i in list1:\n",
    "    for k in i:\n",
    "        g.append(k)\n",
    "\n",
    "d = []\n",
    "for i in g:\n",
    "    if(i==0):\n",
    "        i = imp_avg\n",
    "    if(i == -1):\n",
    "        i = non_imp_avg\n",
    "    d.append(i) \n",
    "data['P_Seats_Mean'] = d\n",
    "\n",
    "list1=[]\n",
    "for df in list_data2:\n",
    "    list1.append(df.values)\n",
    "\n",
    "g = []\n",
    "for i in list1:\n",
    "    for k in i:\n",
    "        g.append(k)\n",
    "\n",
    "d = []\n",
    "for i in g:\n",
    "    if(i==0):\n",
    "        i = imp_avg\n",
    "    if(i == -1):\n",
    "        i = non_imp_avg\n",
    "    d.append(i) \n",
    "data['P_Seats_Median'] = d"
   ]
  },
  {
   "cell_type": "code",
   "execution_count": 563,
   "metadata": {},
   "outputs": [
    {
     "name": "stdout",
     "output_type": "stream",
     "text": [
      "in company\n",
      "in company\n",
      "in company\n",
      "in company\n",
      "in company\n",
      "in company\n",
      "in company\n",
      "in company\n",
      "1234 (1234, 41)\n",
      "1234 (1234, 42)\n"
     ]
    }
   ],
   "source": [
    "grouped = test.groupby('Seats')\n",
    "\n",
    "list_data=[]\n",
    "list_data2=[]\n",
    "\n",
    "for key, item in grouped:\n",
    "    print('in company')\n",
    "    item['P_Seats_Mean']=data[data['Seats']==key]['Price'].mean()\n",
    "    item['P_Seats_Median']=data[data['Seats']==key]['Price'].median()\n",
    "    list_data.append(item['P_Seats_Mean'])\n",
    "    list_data2.append(item['P_Seats_Median'])\n",
    "\n",
    "list1=[]\n",
    "for df in list_data:\n",
    "    list1.append(df.values)\n",
    "\n",
    "g = []\n",
    "for i in list1:\n",
    "    for k in i:\n",
    "        g.append(k)\n",
    "\n",
    "d = []\n",
    "for i in g:\n",
    "    d.append(i) \n",
    "print(len(d),test.shape)  \n",
    "test['P_Seats_Mean'] = d\n",
    "\n",
    "list1=[]\n",
    "for df in list_data2:\n",
    "    list1.append(df.values)\n",
    "\n",
    "g = []\n",
    "for i in list1:\n",
    "    for k in i:\n",
    "        g.append(k)\n",
    "\n",
    "d = []\n",
    "for i in g:\n",
    "    d.append(i) \n",
    "\n",
    "print(len(d),test.shape)\n",
    "test['P_Seats_Median'] = d"
   ]
  },
  {
   "cell_type": "code",
   "execution_count": 564,
   "metadata": {},
   "outputs": [],
   "source": [
    "data.to_csv('Features.csv')\n",
    "test.to_csv('Features_test.csv')"
   ]
  },
  {
   "cell_type": "code",
   "execution_count": 565,
   "metadata": {},
   "outputs": [
    {
     "data": {
      "text/html": [
       "<div>\n",
       "<style scoped>\n",
       "    .dataframe tbody tr th:only-of-type {\n",
       "        vertical-align: middle;\n",
       "    }\n",
       "\n",
       "    .dataframe tbody tr th {\n",
       "        vertical-align: top;\n",
       "    }\n",
       "\n",
       "    .dataframe thead th {\n",
       "        text-align: right;\n",
       "    }\n",
       "</style>\n",
       "<table border=\"1\" class=\"dataframe\">\n",
       "  <thead>\n",
       "    <tr style=\"text-align: right;\">\n",
       "      <th></th>\n",
       "      <th>Unnamed: 0</th>\n",
       "      <th>Year</th>\n",
       "      <th>Kilometers_Driven</th>\n",
       "      <th>Seats</th>\n",
       "      <th>Price</th>\n",
       "      <th>P_Year</th>\n",
       "      <th>P_Mileage</th>\n",
       "      <th>P_Engine</th>\n",
       "      <th>P2_Engine</th>\n",
       "      <th>P_Power</th>\n",
       "      <th>...</th>\n",
       "      <th>Now</th>\n",
       "      <th>Kmpm</th>\n",
       "      <th>P_Transmission_Mean</th>\n",
       "      <th>P_Transmission_Median</th>\n",
       "      <th>P_Fuel_Mean</th>\n",
       "      <th>P_Fuel_Median</th>\n",
       "      <th>P_Owner_Mean</th>\n",
       "      <th>P_Owner_Median</th>\n",
       "      <th>P_Seats_Mean</th>\n",
       "      <th>P_Seats_Median</th>\n",
       "    </tr>\n",
       "  </thead>\n",
       "  <tbody>\n",
       "    <tr>\n",
       "      <th>count</th>\n",
       "      <td>6017.000000</td>\n",
       "      <td>6017.000000</td>\n",
       "      <td>6.017000e+03</td>\n",
       "      <td>6017.000000</td>\n",
       "      <td>6017.000000</td>\n",
       "      <td>6017.000000</td>\n",
       "      <td>6017.000000</td>\n",
       "      <td>6017.000000</td>\n",
       "      <td>6017.000000</td>\n",
       "      <td>6017.000000</td>\n",
       "      <td>...</td>\n",
       "      <td>6017.0</td>\n",
       "      <td>6017.000000</td>\n",
       "      <td>6017.000000</td>\n",
       "      <td>6017.000000</td>\n",
       "      <td>6017.000000</td>\n",
       "      <td>6017.000000</td>\n",
       "      <td>6017.000000</td>\n",
       "      <td>6017.000000</td>\n",
       "      <td>6017.000000</td>\n",
       "      <td>6017.000000</td>\n",
       "    </tr>\n",
       "    <tr>\n",
       "      <th>mean</th>\n",
       "      <td>3008.446236</td>\n",
       "      <td>2013.358152</td>\n",
       "      <td>5.874228e+04</td>\n",
       "      <td>5.241981</td>\n",
       "      <td>9.478340</td>\n",
       "      <td>2007.375436</td>\n",
       "      <td>18.134961</td>\n",
       "      <td>1611.804388</td>\n",
       "      <td>1620.240651</td>\n",
       "      <td>110.580176</td>\n",
       "      <td>...</td>\n",
       "      <td>2019.5</td>\n",
       "      <td>952.839858</td>\n",
       "      <td>9.478294</td>\n",
       "      <td>7.820894</td>\n",
       "      <td>9.478334</td>\n",
       "      <td>6.035426</td>\n",
       "      <td>9.478391</td>\n",
       "      <td>5.586566</td>\n",
       "      <td>9.480672</td>\n",
       "      <td>6.061737</td>\n",
       "    </tr>\n",
       "    <tr>\n",
       "      <th>std</th>\n",
       "      <td>1737.698200</td>\n",
       "      <td>3.269967</td>\n",
       "      <td>9.128375e+04</td>\n",
       "      <td>0.918167</td>\n",
       "      <td>11.189605</td>\n",
       "      <td>110.012896</td>\n",
       "      <td>4.582289</td>\n",
       "      <td>612.225215</td>\n",
       "      <td>600.749571</td>\n",
       "      <td>55.956056</td>\n",
       "      <td>...</td>\n",
       "      <td>0.0</td>\n",
       "      <td>2877.567400</td>\n",
       "      <td>6.559645</td>\n",
       "      <td>5.215807</td>\n",
       "      <td>3.599409</td>\n",
       "      <td>1.833873</td>\n",
       "      <td>1.100284</td>\n",
       "      <td>0.728112</td>\n",
       "      <td>3.526656</td>\n",
       "      <td>3.377011</td>\n",
       "    </tr>\n",
       "    <tr>\n",
       "      <th>min</th>\n",
       "      <td>0.000000</td>\n",
       "      <td>1998.000000</td>\n",
       "      <td>1.710000e+02</td>\n",
       "      <td>0.000000</td>\n",
       "      <td>0.440000</td>\n",
       "      <td>0.000000</td>\n",
       "      <td>0.000000</td>\n",
       "      <td>0.000000</td>\n",
       "      <td>599.000000</td>\n",
       "      <td>0.000000</td>\n",
       "      <td>...</td>\n",
       "      <td>2019.5</td>\n",
       "      <td>8.406667</td>\n",
       "      <td>5.311623</td>\n",
       "      <td>4.500000</td>\n",
       "      <td>2.365000</td>\n",
       "      <td>2.310000</td>\n",
       "      <td>2.860000</td>\n",
       "      <td>2.350000</td>\n",
       "      <td>3.975000</td>\n",
       "      <td>2.950000</td>\n",
       "    </tr>\n",
       "    <tr>\n",
       "      <th>25%</th>\n",
       "      <td>1504.000000</td>\n",
       "      <td>2011.000000</td>\n",
       "      <td>3.400000e+04</td>\n",
       "      <td>5.000000</td>\n",
       "      <td>3.500000</td>\n",
       "      <td>2011.000000</td>\n",
       "      <td>15.170000</td>\n",
       "      <td>1197.000000</td>\n",
       "      <td>1197.000000</td>\n",
       "      <td>74.000000</td>\n",
       "      <td>...</td>\n",
       "      <td>2019.5</td>\n",
       "      <td>527.117647</td>\n",
       "      <td>5.323930</td>\n",
       "      <td>4.500000</td>\n",
       "      <td>5.688302</td>\n",
       "      <td>4.100000</td>\n",
       "      <td>9.745854</td>\n",
       "      <td>5.870000</td>\n",
       "      <td>8.272658</td>\n",
       "      <td>5.160000</td>\n",
       "    </tr>\n",
       "    <tr>\n",
       "      <th>50%</th>\n",
       "      <td>3008.000000</td>\n",
       "      <td>2014.000000</td>\n",
       "      <td>5.300000e+04</td>\n",
       "      <td>5.000000</td>\n",
       "      <td>5.640000</td>\n",
       "      <td>2014.000000</td>\n",
       "      <td>18.150000</td>\n",
       "      <td>1493.000000</td>\n",
       "      <td>1493.000000</td>\n",
       "      <td>91.100000</td>\n",
       "      <td>...</td>\n",
       "      <td>2019.5</td>\n",
       "      <td>764.705882</td>\n",
       "      <td>5.347627</td>\n",
       "      <td>4.550000</td>\n",
       "      <td>12.766817</td>\n",
       "      <td>7.700000</td>\n",
       "      <td>9.954499</td>\n",
       "      <td>5.900000</td>\n",
       "      <td>8.481727</td>\n",
       "      <td>5.200000</td>\n",
       "    </tr>\n",
       "    <tr>\n",
       "      <th>75%</th>\n",
       "      <td>4513.000000</td>\n",
       "      <td>2016.000000</td>\n",
       "      <td>7.300000e+04</td>\n",
       "      <td>5.000000</td>\n",
       "      <td>9.950000</td>\n",
       "      <td>2016.000000</td>\n",
       "      <td>21.100000</td>\n",
       "      <td>1969.000000</td>\n",
       "      <td>1984.000000</td>\n",
       "      <td>138.030000</td>\n",
       "      <td>...</td>\n",
       "      <td>2019.5</td>\n",
       "      <td>1092.424242</td>\n",
       "      <td>19.560444</td>\n",
       "      <td>15.470000</td>\n",
       "      <td>12.816689</td>\n",
       "      <td>7.750000</td>\n",
       "      <td>10.051405</td>\n",
       "      <td>5.950000</td>\n",
       "      <td>8.676726</td>\n",
       "      <td>5.250000</td>\n",
       "    </tr>\n",
       "    <tr>\n",
       "      <th>max</th>\n",
       "      <td>6018.000000</td>\n",
       "      <td>2019.000000</td>\n",
       "      <td>6.500000e+06</td>\n",
       "      <td>10.000000</td>\n",
       "      <td>160.000000</td>\n",
       "      <td>2019.000000</td>\n",
       "      <td>33.540000</td>\n",
       "      <td>5998.000000</td>\n",
       "      <td>5998.000000</td>\n",
       "      <td>560.000000</td>\n",
       "      <td>...</td>\n",
       "      <td>2019.5</td>\n",
       "      <td>216666.666667</td>\n",
       "      <td>20.260953</td>\n",
       "      <td>16.500000</td>\n",
       "      <td>12.922184</td>\n",
       "      <td>7.800000</td>\n",
       "      <td>10.087788</td>\n",
       "      <td>5.950000</td>\n",
       "      <td>64.635000</td>\n",
       "      <td>61.270000</td>\n",
       "    </tr>\n",
       "  </tbody>\n",
       "</table>\n",
       "<p>8 rows × 31 columns</p>\n",
       "</div>"
      ],
      "text/plain": [
       "        Unnamed: 0         Year  Kilometers_Driven        Seats        Price  \\\n",
       "count  6017.000000  6017.000000       6.017000e+03  6017.000000  6017.000000   \n",
       "mean   3008.446236  2013.358152       5.874228e+04     5.241981     9.478340   \n",
       "std    1737.698200     3.269967       9.128375e+04     0.918167    11.189605   \n",
       "min       0.000000  1998.000000       1.710000e+02     0.000000     0.440000   \n",
       "25%    1504.000000  2011.000000       3.400000e+04     5.000000     3.500000   \n",
       "50%    3008.000000  2014.000000       5.300000e+04     5.000000     5.640000   \n",
       "75%    4513.000000  2016.000000       7.300000e+04     5.000000     9.950000   \n",
       "max    6018.000000  2019.000000       6.500000e+06    10.000000   160.000000   \n",
       "\n",
       "            P_Year    P_Mileage     P_Engine    P2_Engine      P_Power  \\\n",
       "count  6017.000000  6017.000000  6017.000000  6017.000000  6017.000000   \n",
       "mean   2007.375436    18.134961  1611.804388  1620.240651   110.580176   \n",
       "std     110.012896     4.582289   612.225215   600.749571    55.956056   \n",
       "min       0.000000     0.000000     0.000000   599.000000     0.000000   \n",
       "25%    2011.000000    15.170000  1197.000000  1197.000000    74.000000   \n",
       "50%    2014.000000    18.150000  1493.000000  1493.000000    91.100000   \n",
       "75%    2016.000000    21.100000  1969.000000  1984.000000   138.030000   \n",
       "max    2019.000000    33.540000  5998.000000  5998.000000   560.000000   \n",
       "\n",
       "            ...           Now           Kmpm  P_Transmission_Mean  \\\n",
       "count       ...        6017.0    6017.000000          6017.000000   \n",
       "mean        ...        2019.5     952.839858             9.478294   \n",
       "std         ...           0.0    2877.567400             6.559645   \n",
       "min         ...        2019.5       8.406667             5.311623   \n",
       "25%         ...        2019.5     527.117647             5.323930   \n",
       "50%         ...        2019.5     764.705882             5.347627   \n",
       "75%         ...        2019.5    1092.424242            19.560444   \n",
       "max         ...        2019.5  216666.666667            20.260953   \n",
       "\n",
       "       P_Transmission_Median  P_Fuel_Mean  P_Fuel_Median  P_Owner_Mean  \\\n",
       "count            6017.000000  6017.000000    6017.000000   6017.000000   \n",
       "mean                7.820894     9.478334       6.035426      9.478391   \n",
       "std                 5.215807     3.599409       1.833873      1.100284   \n",
       "min                 4.500000     2.365000       2.310000      2.860000   \n",
       "25%                 4.500000     5.688302       4.100000      9.745854   \n",
       "50%                 4.550000    12.766817       7.700000      9.954499   \n",
       "75%                15.470000    12.816689       7.750000     10.051405   \n",
       "max                16.500000    12.922184       7.800000     10.087788   \n",
       "\n",
       "       P_Owner_Median  P_Seats_Mean  P_Seats_Median  \n",
       "count     6017.000000   6017.000000     6017.000000  \n",
       "mean         5.586566      9.480672        6.061737  \n",
       "std          0.728112      3.526656        3.377011  \n",
       "min          2.350000      3.975000        2.950000  \n",
       "25%          5.870000      8.272658        5.160000  \n",
       "50%          5.900000      8.481727        5.200000  \n",
       "75%          5.950000      8.676726        5.250000  \n",
       "max          5.950000     64.635000       61.270000  \n",
       "\n",
       "[8 rows x 31 columns]"
      ]
     },
     "execution_count": 565,
     "metadata": {},
     "output_type": "execute_result"
    }
   ],
   "source": [
    "data.describe()"
   ]
  },
  {
   "cell_type": "code",
   "execution_count": 566,
   "metadata": {},
   "outputs": [
    {
     "data": {
      "text/plain": [
       "(Index(['Unnamed: 0', 'Name', 'Location', 'Year', 'Kilometers_Driven',\n",
       "        'Fuel_Type', 'Transmission', 'Owner_Type', 'Mileage', 'Engine', 'Power',\n",
       "        'Seats', 'New_Price', 'Price', 'Company', 'P_Company', 'P_Year',\n",
       "        'P_Mileage', 'P_Engine', 'P1_Engine', 'P2_Engine', 'P_Power',\n",
       "        'P1_Power', 'P2_Power', 'P3_Power', 'P_Seats', 'G_New_Price',\n",
       "        'G_New_Price1', 'P_Company_Mean', 'P_Company_Median', 'P_Location_Mean',\n",
       "        'P_Location_Median', 'P_Year_Mean', 'P_Year_Median', 'Now', 'Kmpm',\n",
       "        'P_Transmission_Mean', 'P_Transmission_Median', 'P_Fuel_Mean',\n",
       "        'P_Fuel_Median', 'P_Owner_Mean', 'P_Owner_Median', 'P_Seats_Mean',\n",
       "        'P_Seats_Median'],\n",
       "       dtype='object'),\n",
       " Index(['Unnamed: 0', 'Name', 'Location', 'Year', 'Kilometers_Driven',\n",
       "        'Fuel_Type', 'Transmission', 'Owner_Type', 'Mileage', 'Engine', 'Power',\n",
       "        'Seats', 'New_Price', 'Company', 'P_Company', 'P_Year', 'P_Mileage',\n",
       "        'P_Engine', 'P1_Engine', 'P2_Engine', 'P_Power', 'P1_Power', 'P2_Power',\n",
       "        'P3_Power', 'P_Seats', 'G_New_Price', 'G_New_Price1', 'P_Company_Mean',\n",
       "        'P_Company_Median', 'Location_Mean', 'Location_Median', 'P_Year_Mean',\n",
       "        'P_Year_Median', 'Now', 'Kmpm', 'P_Transmission_Mean',\n",
       "        'P_Transmission_Median', 'P_Fuel_Mean', 'P_Fuel_Median', 'P_Owner_Mean',\n",
       "        'P_Owner_Median', 'P_Seats_Mean', 'P_Seats_Median'],\n",
       "       dtype='object'),\n",
       " (6017, 44),\n",
       " (1234, 43))"
      ]
     },
     "execution_count": 566,
     "metadata": {},
     "output_type": "execute_result"
    }
   ],
   "source": [
    "data.columns, test.columns, data.shape, test.shape"
   ]
  },
  {
   "cell_type": "code",
   "execution_count": 567,
   "metadata": {},
   "outputs": [],
   "source": [
    "test.rename(columns={'Location_Mean':'P_Location_Mean','Location_Median':'P_Location_Median'}, inplace=True)"
   ]
  },
  {
   "cell_type": "code",
   "execution_count": 569,
   "metadata": {},
   "outputs": [],
   "source": [
    "test.to_csv('Features_test.csv')"
   ]
  },
  {
   "cell_type": "code",
   "execution_count": 574,
   "metadata": {},
   "outputs": [
    {
     "data": {
      "text/plain": [
       "<matplotlib.axes._subplots.AxesSubplot at 0x2d3cee895c0>"
      ]
     },
     "execution_count": 574,
     "metadata": {},
     "output_type": "execute_result"
    },
    {
     "data": {
      "image/png": "[encoded data removed]",
      "text/plain": [
       "<Figure size 432x288 with 1 Axes>"
      ]
     },
     "metadata": {},
     "output_type": "display_data"
    }
   ],
   "source": [
    "np.log(data.P2_Engine).hist()"
   ]
  },
  {
   "cell_type": "code",
   "execution_count": 575,
   "metadata": {},
   "outputs": [
    {
     "data": {
      "text/plain": [
       "<matplotlib.axes._subplots.AxesSubplot at 0x2d3cef3d2b0>"
      ]
     },
     "execution_count": 575,
     "metadata": {},
     "output_type": "execute_result"
    },
    {
     "data": {
      "image/png": "[encoded data removed]",
      "text/plain": [
       "<Figure size 432x288 with 1 Axes>"
      ]
     },
     "metadata": {},
     "output_type": "display_data"
    }
   ],
   "source": [
    "(data.P2_Engine).hist()"
   ]
  },
  {
   "cell_type": "code",
   "execution_count": 576,
   "metadata": {},
   "outputs": [
    {
     "data": {
      "text/plain": [
       "<matplotlib.axes._subplots.AxesSubplot at 0x2d3cf223cf8>"
      ]
     },
     "execution_count": 576,
     "metadata": {},
     "output_type": "execute_result"
    },
    {
     "data": {
      "image/png": "[encoded data removed]",
      "text/plain": [
       "<Figure size 432x288 with 1 Axes>"
      ]
     },
     "metadata": {},
     "output_type": "display_data"
    }
   ],
   "source": [
    "data.P3_Power.hist()"
   ]
  },
  {
   "cell_type": "code",
   "execution_count": 578,
   "metadata": {},
   "outputs": [],
   "source": [
    "check = np.where(data.P3_Power==0, 0.001, data.P3_Power)"
   ]
  },
  {
   "cell_type": "code",
   "execution_count": 580,
   "metadata": {},
   "outputs": [
    {
     "data": {
      "text/plain": [
       "<matplotlib.axes._subplots.AxesSubplot at 0x2d3cf2e5b38>"
      ]
     },
     "execution_count": 580,
     "metadata": {},
     "output_type": "execute_result"
    },
    {
     "data": {
      "image/png": "[encoded data removed]",
      "text/plain": [
       "<Figure size 432x288 with 1 Axes>"
      ]
     },
     "metadata": {},
     "output_type": "display_data"
    }
   ],
   "source": [
    "np.log(pd.Series(check)).hist()"
   ]
  },
  {
   "cell_type": "code",
   "execution_count": 581,
   "metadata": {},
   "outputs": [
    {
     "data": {
      "text/plain": [
       "['Unnamed: 0',\n",
       " 'Name',\n",
       " 'Location',\n",
       " 'Year',\n",
       " 'Kilometers_Driven',\n",
       " 'Fuel_Type',\n",
       " 'Transmission',\n",
       " 'Owner_Type',\n",
       " 'Mileage',\n",
       " 'Engine',\n",
       " 'Power',\n",
       " 'Seats',\n",
       " 'New_Price',\n",
       " 'Price',\n",
       " 'Company',\n",
       " 'P_Company',\n",
       " 'P_Year',\n",
       " 'P_Mileage',\n",
       " 'P_Engine',\n",
       " 'P1_Engine',\n",
       " 'P2_Engine',\n",
       " 'P_Power',\n",
       " 'P1_Power',\n",
       " 'P2_Power',\n",
       " 'P3_Power',\n",
       " 'P_Seats',\n",
       " 'G_New_Price',\n",
       " 'G_New_Price1',\n",
       " 'P_Company_Mean',\n",
       " 'P_Company_Median',\n",
       " 'P_Location_Mean',\n",
       " 'P_Location_Median',\n",
       " 'P_Year_Mean',\n",
       " 'P_Year_Median',\n",
       " 'Now',\n",
       " 'Kmpm',\n",
       " 'P_Transmission_Mean',\n",
       " 'P_Transmission_Median',\n",
       " 'P_Fuel_Mean',\n",
       " 'P_Fuel_Median',\n",
       " 'P_Owner_Mean',\n",
       " 'P_Owner_Median',\n",
       " 'P_Seats_Mean',\n",
       " 'P_Seats_Median']"
      ]
     },
     "execution_count": 581,
     "metadata": {},
     "output_type": "execute_result"
    }
   ],
   "source": [
    "data.columns.tolist()"
   ]
  },
  {
   "cell_type": "code",
   "execution_count": 6,
   "metadata": {},
   "outputs": [],
   "source": [
    "import pandas as pd\n",
    "import numpy as np\n",
    "data=pd.read_csv('Features.csv')\n",
    "test=pd.read_csv('Features_test.csv')"
   ]
  },
  {
   "cell_type": "code",
   "execution_count": 3,
   "metadata": {},
   "outputs": [],
   "source": [
    "'''\n",
    "data['P3_Engine']=np.log(data['P2_Engine'])\n",
    "test['P3_Engine']=np.log(test['P2_Engine'])\n",
    "\n",
    "data['P4_Power']=np.log(data['P3_Power'])\n",
    "test['P4_Power']=np.log(test['P3_Power'])\n",
    "'''"
   ]
  },
  {
   "cell_type": "code",
   "execution_count": 7,
   "metadata": {},
   "outputs": [],
   "source": [
    "cols = ['P2_Engine', 'P3_Power', 'P_Mileage', 'Kilometers_Driven', 'G_New_Price', 'G_New_Price1', 'P_Company_Mean',\n",
    "       'P_Company_Median', 'P_Year_Mean', 'P_Year_Median', 'P_Location_Mean', 'P_Location_Median','Kmpm', 'P_Transmission_Mean', 'P_Transmission_Median','P_Owner_Mean','P_Owner_Median','P_Fuel_Mean','P_Fuel_Median','P_Seats_Median','P_Seats_Mean']\n",
    "\n",
    "data_p = data.loc[:,cols]"
   ]
  },
  {
   "cell_type": "code",
   "execution_count": 5,
   "metadata": {},
   "outputs": [
    {
     "name": "stdout",
     "output_type": "stream",
     "text": [
      "(0, 48) P3_Engine (0, 47)\n",
      "(0, 48) P4_Power (0, 47)\n",
      "(68, 48) P_Mileage (13, 47)\n",
      "(0, 48) Kilometers_Driven (0, 47)\n",
      "(0, 48) G_New_Price (0, 47)\n",
      "(0, 48) G_New_Price1 (0, 47)\n",
      "(0, 48) P_Company_Mean (0, 47)\n",
      "(0, 48) P_Company_Median (0, 47)\n",
      "(0, 48) P_Year_Mean (0, 47)\n",
      "(0, 48) P_Year_Median (0, 47)\n",
      "(0, 48) P_Location_Mean (0, 47)\n",
      "(0, 48) P_Location_Median (0, 47)\n",
      "(0, 48) Kmpm (0, 47)\n",
      "(0, 48) P_Transmission_Mean (0, 47)\n",
      "(0, 48) P_Transmission_Median (0, 47)\n",
      "(0, 48) P_Owner_Mean (0, 47)\n",
      "(0, 48) P_Owner_Median (0, 47)\n",
      "(0, 48) P_Fuel_Mean (0, 47)\n",
      "(0, 48) P_Fuel_Median (0, 47)\n",
      "(0, 48) P_Seats_Median (0, 47)\n",
      "(0, 48) P_Seats_Mean (0, 47)\n"
     ]
    }
   ],
   "source": [
    "for col in cols:\n",
    "    print(data[data[col]==0].shape, col, test[test[col]==0].shape)"
   ]
  },
  {
   "cell_type": "code",
   "execution_count": 662,
   "metadata": {},
   "outputs": [],
   "source": [
    "for col in cols:\n",
    "    data[col]=np.log(data[col])\n",
    "    \n",
    "for col in cols:\n",
    "    test[col]=np.log(test[col])"
   ]
  },
  {
   "cell_type": "code",
   "execution_count": 663,
   "metadata": {},
   "outputs": [],
   "source": [
    "data.to_csv('Normalized_Features.csv')\n",
    "test.to_csv('Normalized_Features_Test.csv')"
   ]
  },
  {
   "cell_type": "code",
   "execution_count": 8,
   "metadata": {},
   "outputs": [
    {
     "name": "stderr",
     "output_type": "stream",
     "text": [
      "D:\\samadrita.ghosh\\Anaconda3\\lib\\site-packages\\sklearn\\preprocessing\\data.py:323: DataConversionWarning: Data with input dtype int64, float64 were all converted to float64 by MinMaxScaler.\n",
      "  return self.partial_fit(X, y)\n"
     ]
    }
   ],
   "source": [
    "from sklearn import preprocessing\n",
    "x = pd.DataFrame(data_p) #returns a numpy array\n",
    "min_max_scaler = preprocessing.MinMaxScaler()\n",
    "x_scaled = min_max_scaler.fit_transform(x)\n",
    "data_p= x_scaled"
   ]
  },
  {
   "cell_type": "code",
   "execution_count": 9,
   "metadata": {},
   "outputs": [
    {
     "data": {
      "text/plain": [
       "(6017, 21)"
      ]
     },
     "execution_count": 9,
     "metadata": {},
     "output_type": "execute_result"
    }
   ],
   "source": [
    "data_p.shape"
   ]
  },
  {
   "cell_type": "code",
   "execution_count": 10,
   "metadata": {},
   "outputs": [],
   "source": [
    "data_p=pd.DataFrame(data_p, columns=cols)"
   ]
  },
  {
   "cell_type": "code",
   "execution_count": 12,
   "metadata": {},
   "outputs": [
    {
     "data": {
      "text/plain": [
       "<matplotlib.axes._subplots.AxesSubplot at 0x23450b33518>"
      ]
     },
     "execution_count": 12,
     "metadata": {},
     "output_type": "execute_result"
    },
    {
     "data": {
      "image/png": "[encoded data removed]",
      "text/plain": [
       "<Figure size 432x288 with 1 Axes>"
      ]
     },
     "metadata": {},
     "output_type": "display_data"
    }
   ],
   "source": [
    "data_p.Kilometers_Driven.hist()"
   ]
  },
  {
   "cell_type": "code",
   "execution_count": 13,
   "metadata": {},
   "outputs": [
    {
     "data": {
      "text/plain": [
       "Index(['P2_Engine', 'P3_Power', 'P_Mileage', 'Kilometers_Driven',\n",
       "       'G_New_Price', 'G_New_Price1', 'P_Company_Mean', 'P_Company_Median',\n",
       "       'P_Year_Mean', 'P_Year_Median', 'P_Location_Mean', 'P_Location_Median',\n",
       "       'Kmpm', 'P_Transmission_Mean', 'P_Transmission_Median', 'P_Owner_Mean',\n",
       "       'P_Owner_Median', 'P_Fuel_Mean', 'P_Fuel_Median', 'P_Seats_Median',\n",
       "       'P_Seats_Mean'],\n",
       "      dtype='object')"
      ]
     },
     "execution_count": 13,
     "metadata": {},
     "output_type": "execute_result"
    }
   ],
   "source": [
    "data_p.columns"
   ]
  },
  {
   "cell_type": "code",
   "execution_count": 701,
   "metadata": {},
   "outputs": [
    {
     "data": {
      "text/plain": [
       "7.750    1923\n",
       "4.100    1098\n",
       "7.800     641\n",
       "7.700     641\n",
       "4.130     550\n",
       "4.150     549\n",
       "4.040     549\n",
       "3.250      33\n",
       "3.255      12\n",
       "3.150      11\n",
       "2.600       4\n",
       "2.560       2\n",
       "2.850       2\n",
       "2.310       2\n",
       "Name: P_Fuel_Median, dtype: int64"
      ]
     },
     "execution_count": 701,
     "metadata": {},
     "output_type": "execute_result"
    }
   ],
   "source": [
    "data.P_Fuel_Median.value_counts()"
   ]
  },
  {
   "cell_type": "code",
   "execution_count": 14,
   "metadata": {},
   "outputs": [],
   "source": [
    "for col in data_p.columns:\n",
    "    data[col]=data_p[col]"
   ]
  },
  {
   "cell_type": "code",
   "execution_count": 15,
   "metadata": {},
   "outputs": [],
   "source": [
    "test_p = test.loc[:,cols]"
   ]
  },
  {
   "cell_type": "code",
   "execution_count": 16,
   "metadata": {},
   "outputs": [],
   "source": [
    "x = pd.DataFrame(test_p) #returns a numpy array\n",
    "x_scaled = min_max_scaler.transform(x)\n",
    "test_p= x_scaled"
   ]
  },
  {
   "cell_type": "code",
   "execution_count": 17,
   "metadata": {},
   "outputs": [],
   "source": [
    "test_p=pd.DataFrame(test_p,columns=cols)"
   ]
  },
  {
   "cell_type": "code",
   "execution_count": 18,
   "metadata": {},
   "outputs": [],
   "source": [
    "for col in test_p.columns:\n",
    "    test[col]=test_p[col]"
   ]
  },
  {
   "cell_type": "code",
   "execution_count": 19,
   "metadata": {},
   "outputs": [],
   "source": [
    "data.to_csv('Normalized_Features.csv')\n",
    "test.to_csv('Normalized_Features_Test.csv')"
   ]
  },
  {
   "cell_type": "code",
   "execution_count": 595,
   "metadata": {},
   "outputs": [
    {
     "data": {
      "text/plain": [
       "(1234, 43)"
      ]
     },
     "execution_count": 595,
     "metadata": {},
     "output_type": "execute_result"
    }
   ],
   "source": [
    "test.shape"
   ]
  },
  {
   "cell_type": "code",
   "execution_count": 596,
   "metadata": {},
   "outputs": [
    {
     "data": {
      "text/plain": [
       "Unnamed: 0                  0\n",
       "Name                        0\n",
       "Location                    0\n",
       "Year                        0\n",
       "Kilometers_Driven           0\n",
       "Fuel_Type                   0\n",
       "Transmission                0\n",
       "Owner_Type                  0\n",
       "Mileage                     0\n",
       "Engine                      0\n",
       "Power                       0\n",
       "Seats                       0\n",
       "New_Price                5194\n",
       "Price                       0\n",
       "Company                     0\n",
       "P_Company                   0\n",
       "P_Year                      0\n",
       "P_Mileage                   0\n",
       "P_Engine                    0\n",
       "P1_Engine                   0\n",
       "P2_Engine                   0\n",
       "P_Power                     0\n",
       "P1_Power                    0\n",
       "P2_Power                    0\n",
       "P3_Power                    0\n",
       "P_Seats                     0\n",
       "G_New_Price                 0\n",
       "G_New_Price1             5006\n",
       "P_Company_Mean              0\n",
       "P_Company_Median            0\n",
       "P_Location_Mean             0\n",
       "P_Location_Median           0\n",
       "P_Year_Mean                 0\n",
       "P_Year_Median               0\n",
       "Now                         0\n",
       "Kmpm                        0\n",
       "P_Transmission_Mean         0\n",
       "P_Transmission_Median       0\n",
       "P_Fuel_Mean                 0\n",
       "P_Fuel_Median               0\n",
       "P_Owner_Mean                0\n",
       "P_Owner_Median              0\n",
       "P_Seats_Mean                0\n",
       "P_Seats_Median              0\n",
       "dtype: int64"
      ]
     },
     "execution_count": 596,
     "metadata": {},
     "output_type": "execute_result"
    }
   ],
   "source": [
    "data.isnull().sum()"
   ]
  },
  {
   "cell_type": "code",
   "execution_count": 597,
   "metadata": {},
   "outputs": [
    {
     "data": {
      "text/plain": [
       "Unnamed: 0                  0\n",
       "Name                        0\n",
       "Location                    0\n",
       "Year                        0\n",
       "Kilometers_Driven           0\n",
       "Fuel_Type                   0\n",
       "Transmission                0\n",
       "Owner_Type                  0\n",
       "Mileage                     0\n",
       "Engine                      0\n",
       "Power                       0\n",
       "Seats                       0\n",
       "New_Price                1052\n",
       "Company                     0\n",
       "P_Company                   0\n",
       "P_Year                      0\n",
       "P_Mileage                   0\n",
       "P_Engine                    0\n",
       "P1_Engine                   0\n",
       "P2_Engine                   0\n",
       "P_Power                     0\n",
       "P1_Power                    0\n",
       "P2_Power                    0\n",
       "P3_Power                    0\n",
       "P_Seats                     5\n",
       "G_New_Price                 2\n",
       "G_New_Price1             1077\n",
       "P_Company_Mean              2\n",
       "P_Company_Median            2\n",
       "P_Location_Mean             0\n",
       "P_Location_Median           0\n",
       "P_Year_Mean                 0\n",
       "P_Year_Median               0\n",
       "Now                         0\n",
       "Kmpm                        0\n",
       "P_Transmission_Mean         0\n",
       "P_Transmission_Median       0\n",
       "P_Fuel_Mean                 0\n",
       "P_Fuel_Median               0\n",
       "P_Owner_Mean                0\n",
       "P_Owner_Median              0\n",
       "P_Seats_Mean                0\n",
       "P_Seats_Median              0\n",
       "dtype: int64"
      ]
     },
     "execution_count": 597,
     "metadata": {},
     "output_type": "execute_result"
    }
   ],
   "source": [
    "test.isnull().sum()"
   ]
  },
  {
   "cell_type": "code",
   "execution_count": 598,
   "metadata": {},
   "outputs": [
    {
     "data": {
      "text/html": [
       "<div>\n",
       "<style scoped>\n",
       "    .dataframe tbody tr th:only-of-type {\n",
       "        vertical-align: middle;\n",
       "    }\n",
       "\n",
       "    .dataframe tbody tr th {\n",
       "        vertical-align: top;\n",
       "    }\n",
       "\n",
       "    .dataframe thead th {\n",
       "        text-align: right;\n",
       "    }\n",
       "</style>\n",
       "<table border=\"1\" class=\"dataframe\">\n",
       "  <thead>\n",
       "    <tr style=\"text-align: right;\">\n",
       "      <th></th>\n",
       "      <th>Unnamed: 0</th>\n",
       "      <th>Name</th>\n",
       "      <th>Location</th>\n",
       "      <th>Year</th>\n",
       "      <th>Kilometers_Driven</th>\n",
       "      <th>Fuel_Type</th>\n",
       "      <th>Transmission</th>\n",
       "      <th>Owner_Type</th>\n",
       "      <th>Mileage</th>\n",
       "      <th>Engine</th>\n",
       "      <th>...</th>\n",
       "      <th>Now</th>\n",
       "      <th>Kmpm</th>\n",
       "      <th>P_Transmission_Mean</th>\n",
       "      <th>P_Transmission_Median</th>\n",
       "      <th>P_Fuel_Mean</th>\n",
       "      <th>P_Fuel_Median</th>\n",
       "      <th>P_Owner_Mean</th>\n",
       "      <th>P_Owner_Median</th>\n",
       "      <th>P_Seats_Mean</th>\n",
       "      <th>P_Seats_Median</th>\n",
       "    </tr>\n",
       "  </thead>\n",
       "  <tbody>\n",
       "  </tbody>\n",
       "</table>\n",
       "<p>0 rows × 44 columns</p>\n",
       "</div>"
      ],
      "text/plain": [
       "Empty DataFrame\n",
       "Columns: [Unnamed: 0, Name, Location, Year, Kilometers_Driven, Fuel_Type, Transmission, Owner_Type, Mileage, Engine, Power, Seats, New_Price, Price, Company, P_Company, P_Year, P_Mileage, P_Engine, P1_Engine, P2_Engine, P_Power, P1_Power, P2_Power, P3_Power, P_Seats, G_New_Price, G_New_Price1, P_Company_Mean, P_Company_Median, P_Location_Mean, P_Location_Median, P_Year_Mean, P_Year_Median, Now, Kmpm, P_Transmission_Mean, P_Transmission_Median, P_Fuel_Mean, P_Fuel_Median, P_Owner_Mean, P_Owner_Median, P_Seats_Mean, P_Seats_Median]\n",
       "Index: []\n",
       "\n",
       "[0 rows x 44 columns]"
      ]
     },
     "execution_count": 598,
     "metadata": {},
     "output_type": "execute_result"
    }
   ],
   "source": [
    "data[data['Kmpm'].isnull()]"
   ]
  },
  {
   "cell_type": "code",
   "execution_count": null,
   "metadata": {},
   "outputs": [],
   "source": []
  }
 ],
 "metadata": {
  "kernelspec": {
   "display_name": "Python 3",
   "language": "python",
   "name": "python3"
  },
  "language_info": {
   "codemirror_mode": {
    "name": "ipython",
    "version": 3
   },
   "file_extension": ".py",
   "mimetype": "text/x-python",
   "name": "python",
   "nbconvert_exporter": "python",
   "pygments_lexer": "ipython3",
   "version": "3.7.0"
  }
 },
 "nbformat": 4,
 "nbformat_minor": 2
}
