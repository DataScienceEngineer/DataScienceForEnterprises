{
 "cells": [
  {
   "cell_type": "code",
   "execution_count": 58,
   "metadata": {},
   "outputs": [
    {
     "name": "stdout",
     "output_type": "stream",
     "text": [
      "Collecting https://github.com/adebayoj/fairml/archive/master.zip\n",
      "  Downloading https://github.com/adebayoj/fairml/archive/master.zip\n",
      "Requirement already satisfied (use --upgrade to upgrade): fairml==0.1.1.5 from https://github.com/adebayoj/fairml/archive/master.zip in c:\\programdata\\anaconda3\\lib\\site-packages\n",
      "Requirement already satisfied: numpy in c:\\users\\srinivas.t.highradius\\appdata\\roaming\\python\\python37\\site-packages (from fairml==0.1.1.5) (1.17.2)\n",
      "Requirement already satisfied: scipy in c:\\users\\srinivas.t.highradius\\appdata\\roaming\\python\\python37\\site-packages (from fairml==0.1.1.5) (1.3.1)\n",
      "Requirement already satisfied: scikit-learn>=0.18 in c:\\users\\srinivas.t.highradius\\appdata\\roaming\\python\\python37\\site-packages (from fairml==0.1.1.5) (0.21.3)\n",
      "Requirement already satisfied: matplotlib>=1.5.3 in c:\\programdata\\anaconda3\\lib\\site-packages (from fairml==0.1.1.5) (2.2.3)\n",
      "Requirement already satisfied: seaborn>=0.7.1 in c:\\programdata\\anaconda3\\lib\\site-packages (from fairml==0.1.1.5) (0.9.0)\n",
      "Requirement already satisfied: pandas>=0.19.0 in c:\\users\\srinivas.t.highradius\\appdata\\roaming\\python\\python37\\site-packages (from fairml==0.1.1.5) (0.25.1)\n",
      "Requirement already satisfied: joblib>=0.11 in c:\\users\\srinivas.t.highradius\\appdata\\roaming\\python\\python37\\site-packages (from scikit-learn>=0.18->fairml==0.1.1.5) (0.14.0)\n",
      "Requirement already satisfied: cycler>=0.10 in c:\\programdata\\anaconda3\\lib\\site-packages (from matplotlib>=1.5.3->fairml==0.1.1.5) (0.10.0)\n",
      "Requirement already satisfied: pyparsing!=2.0.4,!=2.1.2,!=2.1.6,>=2.0.1 in c:\\programdata\\anaconda3\\lib\\site-packages (from matplotlib>=1.5.3->fairml==0.1.1.5) (2.2.0)\n",
      "Requirement already satisfied: python-dateutil>=2.1 in c:\\programdata\\anaconda3\\lib\\site-packages (from matplotlib>=1.5.3->fairml==0.1.1.5) (2.7.3)\n",
      "Requirement already satisfied: pytz in c:\\programdata\\anaconda3\\lib\\site-packages (from matplotlib>=1.5.3->fairml==0.1.1.5) (2018.5)\n",
      "Requirement already satisfied: six>=1.10 in c:\\programdata\\anaconda3\\lib\\site-packages (from matplotlib>=1.5.3->fairml==0.1.1.5) (1.11.0)\n",
      "Requirement already satisfied: kiwisolver>=1.0.1 in c:\\programdata\\anaconda3\\lib\\site-packages (from matplotlib>=1.5.3->fairml==0.1.1.5) (1.0.1)\n",
      "Requirement already satisfied: setuptools in c:\\programdata\\anaconda3\\lib\\site-packages (from kiwisolver>=1.0.1->matplotlib>=1.5.3->fairml==0.1.1.5) (40.2.0)\n",
      "Building wheels for collected packages: fairml\n",
      "  Building wheel for fairml (setup.py): started\n",
      "  Building wheel for fairml (setup.py): finished with status 'done'\n",
      "  Created wheel for fairml: filename=fairml-0.1.1.5-cp37-none-any.whl size=8612 sha256=4f98a69f51ec0335fdb3024a843f0085b44ebfed3732357e9729e2d18e0988e6\n",
      "  Stored in directory: C:\\Users\\SRINIV~1.HIG\\AppData\\Local\\Temp\\pip-ephem-wheel-cache-vv6gvxac\\wheels\\f2\\31\\c0\\4f89bb5d32942468c61f33ae1f59386c516e2318d033956a5c\n",
      "Successfully built fairml\n"
     ]
    }
   ],
   "source": [
    "! pip install https://github.com/adebayoj/fairml/archive/master.zip"
   ]
  },
  {
   "cell_type": "code",
   "execution_count": 59,
   "metadata": {},
   "outputs": [],
   "source": [
    "import os\n",
    "import warnings\n",
    "import sys\n",
    "\n",
    "import pandas as pd\n",
    "import numpy as np\n",
    "from sklearn.metrics import mean_squared_error, mean_absolute_error, r2_score\n",
    "from sklearn.model_selection import train_test_split\n",
    "from sklearn.ensemble import RandomForestRegressor\n",
    "\n",
    "from fairml import audit_model\n",
    "\n",
    "def eval_metrics(actual, pred):\n",
    "    rmse = np.sqrt(mean_squared_error(actual, pred))\n",
    "    mae = mean_absolute_error(actual, pred)\n",
    "    r2 = r2_score(actual, pred)\n",
    "    return rmse, mae, r2\n",
    "\n",
    "\n",
    "warnings.filterwarnings(\"ignore\")\n",
    "np.random.seed(40)\n",
    "\n",
    "# Read the wine-quality csv file (make sure you're running this from the root of MLflow!)\n",
    "#  Assumes wine-quality.csv is located in the same folder as the notebook\n",
    "data_file = \"mlFlowData.csv\"\n",
    "data = pd.read_csv(data_file)\n",
    "\n",
    "# Split the data into training and test sets. (0.75, 0.25) split.\n",
    "train, test = train_test_split(data)\n",
    "\n",
    "# The predicted column is \"quality\" which is a scalar from [3, 9]\n",
    "train_x = train.drop([\"Saleprice\"], axis=1)\n",
    "test_x = test.drop([\"Saleprice\"], axis=1)\n",
    "train_y = train[[\"Saleprice\"]]\n",
    "test_y = test[[\"Saleprice\"]]"
   ]
  },
  {
   "cell_type": "code",
   "execution_count": 60,
   "metadata": {},
   "outputs": [
    {
     "name": "stdout",
     "output_type": "stream",
     "text": [
      "RF regression model, n_estimators = 10, max_features = 12\n",
      "  RMSE: 0.13379054856528272\n",
      "  MAE: 0.10659082457297332\n",
      "  R2: 0.8494744884746003\n"
     ]
    }
   ],
   "source": [
    "# FairML needs all the input features to have a minimum of two unique values to work \n",
    "# (As it looks at variation of the predictors across the inputs).\n",
    "# Lets remove any columns which have less than 2 unique values in the dataframe before building the ML models\n",
    "\n",
    "allcolslist = train_x.columns.tolist()\n",
    "colswithlessthan2uniques = []\n",
    "for var in allcolslist:\n",
    "    if train_x[var].nunique() < 2:\n",
    "        colswithlessthan2uniques.append(var)\n",
    "        \n",
    "\n",
    "fintrain_x = train_x.drop(colswithlessthan2uniques,axis=1)\n",
    "fintest_x = test_x.drop(colswithlessthan2uniques,axis=1)\n",
    "n_estimators=10 \n",
    "max_features=int(0.6*len(fintrain_x.columns))\n",
    "\n",
    "regressor = RandomForestRegressor(n_estimators=n_estimators, max_features=max_features)\n",
    "regressor.fit(fintrain_x, train_y)\n",
    "\n",
    "# Evaluate Metrics\n",
    "predicted_qualities = regressor.predict(fintest_x)\n",
    "(rmse, mae, r2) = eval_metrics(test_y, predicted_qualities)\n",
    "\n",
    "# Print out metrics\n",
    "print(f\"RF regression model, n_estimators = {n_estimators}, max_features = {max_features}\")\n",
    "print(\"  RMSE: %s\" % rmse)\n",
    "print(\"  MAE: %s\" % mae)\n",
    "print(\"  R2: %s\" % r2)"
   ]
  },
  {
   "cell_type": "code",
   "execution_count": 61,
   "metadata": {},
   "outputs": [
    {
     "name": "stdout",
     "output_type": "stream",
     "text": [
      "Feature: MSSubClass,\t Importance: -0.144903482218984\n",
      "Feature: LotArea,\t Importance: 0.2827473712727839\n",
      "Feature: OverallQual,\t Importance: 0.31047065644207433\n",
      "Feature: OverallCond,\t Importance: 0.30483048129813894\n",
      "Feature: YearBuilt,\t Importance: 0.306081035665447\n",
      "Feature: YearRemodAdd,\t Importance: -0.10020309907843257\n",
      "Feature: MasVnrArea,\t Importance: 0.1848159168646333\n",
      "Feature: BsmtFinSF1,\t Importance: 0.20757600428956952\n",
      "Feature: 1stFlrSF,\t Importance: 0.2859541838933218\n",
      "Feature: 2ndFlrSF,\t Importance: 0.15060986706030002\n",
      "Feature: GrLivArea,\t Importance: 0.30965681873571343\n",
      "Feature: BsmtFullBath,\t Importance: -0.14725320918051696\n",
      "Feature: FullBath,\t Importance: 0.3033563240953315\n",
      "Feature: HalfBath,\t Importance: 0.1615415587686928\n",
      "Feature: Functional,\t Importance: 0.29420914103423634\n",
      "Feature: Fireplaces,\t Importance: 0.1911832515374317\n",
      "Feature: GarageCars,\t Importance: 0.28748261167452094\n",
      "Feature: WoodDeckSF,\t Importance: 0.18370756262669344\n",
      "Feature: ScreenPorch,\t Importance: 0.036008156463049654\n",
      "Feature: GarageYrBlt_na,\t Importance: -0.008044553145682247\n",
      "Feature: LotFrontage,\t Importance: 0.299408124753011\n"
     ]
    }
   ],
   "source": [
    "importances,_ = audit_model(regressor.predict, fintest_x)\n",
    "print(importances)"
   ]
  },
  {
   "cell_type": "code",
   "execution_count": null,
   "metadata": {},
   "outputs": [],
   "source": []
  },
  {
   "cell_type": "code",
   "execution_count": null,
   "metadata": {},
   "outputs": [],
   "source": []
  }
 ],
 "metadata": {
  "kernelspec": {
   "display_name": "Python 3",
   "language": "python",
   "name": "python3"
  },
  "language_info": {
   "codemirror_mode": {
    "name": "ipython",
    "version": 3
   },
   "file_extension": ".py",
   "mimetype": "text/x-python",
   "name": "python",
   "nbconvert_exporter": "python",
   "pygments_lexer": "ipython3",
   "version": "3.7.0"
  },
  "toc": {
   "nav_menu": {},
   "number_sections": true,
   "sideBar": true,
   "skip_h1_title": false,
   "toc_cell": false,
   "toc_position": {
    "height": "583px",
    "left": "0px",
    "right": "1324px",
    "top": "107px",
    "width": "212px"
   },
   "toc_section_display": "block",
   "toc_window_display": true
  }
 },
 "nbformat": 4,
 "nbformat_minor": 2
}
